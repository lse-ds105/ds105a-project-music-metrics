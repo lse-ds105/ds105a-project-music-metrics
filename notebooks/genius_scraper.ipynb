{
 "cells": [
  {
   "cell_type": "markdown",
   "metadata": {},
   "source": [
    "## Scraping song lyrics using Genius API"
   ]
  },
  {
   "cell_type": "markdown",
   "metadata": {},
   "source": [
    "Import necessary packages"
   ]
  },
  {
   "cell_type": "code",
   "execution_count": 11,
   "metadata": {},
   "outputs": [
    {
     "ename": "ModuleNotFoundError",
     "evalue": "No module named 'deestools'",
     "output_type": "error",
     "traceback": [
      "\u001b[1;31m---------------------------------------------------------------------------\u001b[0m",
      "\u001b[1;31mModuleNotFoundError\u001b[0m                       Traceback (most recent call last)",
      "\u001b[1;32mc:\\Users\\soong\\Documents\\LSE Academics\\DS105A\\Group Project\\ds105a-project-dees-nuts\\notebooks\\genius_scraper.ipynb Cell 3\u001b[0m line \u001b[0;36m9\n\u001b[0;32m      <a href='vscode-notebook-cell:/c%3A/Users/soong/Documents/LSE%20Academics/DS105A/Group%20Project/ds105a-project-dees-nuts/notebooks/genius_scraper.ipynb#W2sZmlsZQ%3D%3D?line=5'>6</a>\u001b[0m \u001b[39mfrom\u001b[39;00m \u001b[39mpprint\u001b[39;00m \u001b[39mimport\u001b[39;00m pprint\n\u001b[0;32m      <a href='vscode-notebook-cell:/c%3A/Users/soong/Documents/LSE%20Academics/DS105A/Group%20Project/ds105a-project-dees-nuts/notebooks/genius_scraper.ipynb#W2sZmlsZQ%3D%3D?line=7'>8</a>\u001b[0m sys\u001b[39m.\u001b[39mpath\u001b[39m.\u001b[39mappend(\u001b[39m'\u001b[39m\u001b[39m../dees_tools\u001b[39m\u001b[39m'\u001b[39m)\n\u001b[1;32m----> <a href='vscode-notebook-cell:/c%3A/Users/soong/Documents/LSE%20Academics/DS105A/Group%20Project/ds105a-project-dees-nuts/notebooks/genius_scraper.ipynb#W2sZmlsZQ%3D%3D?line=8'>9</a>\u001b[0m \u001b[39mfrom\u001b[39;00m \u001b[39mdeestools\u001b[39;00m \u001b[39mimport\u001b[39;00m \u001b[39m*\u001b[39m\n",
      "\u001b[1;31mModuleNotFoundError\u001b[0m: No module named 'deestools'"
     ]
    }
   ],
   "source": [
    "import sys\n",
    "import json\n",
    "import requests\n",
    "import pandas as pd\n",
    "from scrapy import Selector\n",
    "from pprint import pprint\n",
    "\n",
    "# sys.path.append('../dees_tools')\n",
    "# from deestools import *"
   ]
  },
  {
   "cell_type": "markdown",
   "metadata": {},
   "source": [
    "Open JSON file containing credentials"
   ]
  },
  {
   "cell_type": "code",
   "execution_count": 2,
   "metadata": {},
   "outputs": [],
   "source": [
    "credentials_file_path = \"../credentials.json\"\n",
    "\n",
    "with open(credentials_file_path, \"r\") as f:\n",
    "    credentials = json.load(f)"
   ]
  },
  {
   "cell_type": "markdown",
   "metadata": {},
   "source": [
    "Initialise a new session"
   ]
  },
  {
   "cell_type": "code",
   "execution_count": 3,
   "metadata": {},
   "outputs": [],
   "source": [
    "my_session = requests.Session()"
   ]
  },
  {
   "cell_type": "markdown",
   "metadata": {},
   "source": [
    "I created a custom function `generate_song_url` to generate the Genius page URL for a song using the title and artist of the song. "
   ]
  },
  {
   "cell_type": "code",
   "execution_count": 4,
   "metadata": {},
   "outputs": [],
   "source": [
    "def generate_song_url(song_artist, song_title):\n",
    "    '''\n",
    "    Returns a string of the URL for the Genius page of the song\n",
    "\n",
    "        Parameters:\n",
    "            song_artist (str): The artist of the song\n",
    "            song_title (str): The title of the song\n",
    "\n",
    "        Returns:\n",
    "            song_url (str): The URL for the Genius page of the song\n",
    "    '''\n",
    "    base_url = 'https://genius.com/'\n",
    "    \n",
    "    formatted_artist = song_artist.lower().replace(' ', '-')\n",
    "    formatted_title = song_title.lower().replace(' ', '-')\n",
    "    \n",
    "    song_url = f'{base_url}{formatted_artist}-{formatted_title}-lyrics'\n",
    "\n",
    "    return song_url"
   ]
  },
  {
   "cell_type": "markdown",
   "metadata": {},
   "source": [
    "I created a custom function `scrape_lyrics` to scrape song lyrics from the Genius page for any given song. \n",
    "\n",
    "Note that the lyrics returned are formatted such that each line of lyric appears in a new line, similar to how it is displayed on the Genius page."
   ]
  },
  {
   "cell_type": "code",
   "execution_count": 1,
   "metadata": {},
   "outputs": [],
   "source": [
    "def scrape_lyrics(session, song_url):\n",
    "    '''\n",
    "    Returns a string of song lyrics, with each line separated by a new line\n",
    "\n",
    "        Parameters:\n",
    "            song_url (str): The URL of the Genius page for the song\n",
    "\n",
    "        Returns:\n",
    "            lyrics (str): The lyrics of the song\n",
    "    '''\n",
    "    response = session.get(song_url)\n",
    "    sel = Selector(text=response.text)\n",
    "    lyrics = '\\n'.join(sel.css('div.Lyrics__Container-sc-1ynbvzw-1.kUgSbL ::text').getall())\n",
    "\n",
    "    return lyrics"
   ]
  },
  {
   "cell_type": "markdown",
   "metadata": {},
   "source": [
    "At this point of data collection, we will have a pandas dataframe of already selected and filtered songs from using the YouTube API. Critically, the dataframe will have information on the name and artist of each song.\n",
    "\n",
    "We now want to add the lyrics of each song into the dataframe."
   ]
  },
  {
   "cell_type": "code",
   "execution_count": 6,
   "metadata": {},
   "outputs": [],
   "source": [
    "# create placeholder dataframe for testing\n",
    "songs_data = {\n",
    "    'Title': ['Lose Yourself', 'Bones', 'Love Story'],\n",
    "    'Artist': ['Eminem', 'Imagine Dragons', 'Taylor Swift']\n",
    "}\n",
    "\n",
    "songs_df = pd.DataFrame(songs_data)"
   ]
  },
  {
   "cell_type": "code",
   "execution_count": 7,
   "metadata": {},
   "outputs": [
    {
     "ename": "NameError",
     "evalue": "name 'generate_song_url' is not defined",
     "output_type": "error",
     "traceback": [
      "\u001b[1;31m---------------------------------------------------------------------------\u001b[0m",
      "\u001b[1;31mNameError\u001b[0m                                 Traceback (most recent call last)",
      "\u001b[1;32mc:\\Users\\soong\\Documents\\LSE Academics\\DS105A\\Group Project\\ds105a-project-dees-nuts\\notebooks\\genius_scraper.ipynb Cell 14\u001b[0m line \u001b[0;36m2\n\u001b[0;32m      <a href='vscode-notebook-cell:/c%3A/Users/soong/Documents/LSE%20Academics/DS105A/Group%20Project/ds105a-project-dees-nuts/notebooks/genius_scraper.ipynb#X16sZmlsZQ%3D%3D?line=0'>1</a>\u001b[0m \u001b[39m# add Genius URL of each song to dataframe\u001b[39;00m\n\u001b[1;32m----> <a href='vscode-notebook-cell:/c%3A/Users/soong/Documents/LSE%20Academics/DS105A/Group%20Project/ds105a-project-dees-nuts/notebooks/genius_scraper.ipynb#X16sZmlsZQ%3D%3D?line=1'>2</a>\u001b[0m songs_df[\u001b[39m'\u001b[39m\u001b[39mGenius_URL\u001b[39m\u001b[39m'\u001b[39m] \u001b[39m=\u001b[39m songs_df\u001b[39m.\u001b[39;49mapply(\u001b[39mlambda\u001b[39;49;00m row: generate_song_url(row[\u001b[39m'\u001b[39;49m\u001b[39mArtist\u001b[39;49m\u001b[39m'\u001b[39;49m], row[\u001b[39m'\u001b[39;49m\u001b[39mTitle\u001b[39;49m\u001b[39m'\u001b[39;49m]), axis\u001b[39m=\u001b[39;49m\u001b[39m1\u001b[39;49m)\n",
      "File \u001b[1;32mc:\\Users\\soong\\AppData\\Local\\Programs\\Python\\Python312\\Lib\\site-packages\\pandas\\core\\frame.py:10037\u001b[0m, in \u001b[0;36mDataFrame.apply\u001b[1;34m(self, func, axis, raw, result_type, args, by_row, **kwargs)\u001b[0m\n\u001b[0;32m  10025\u001b[0m \u001b[39mfrom\u001b[39;00m \u001b[39mpandas\u001b[39;00m\u001b[39m.\u001b[39;00m\u001b[39mcore\u001b[39;00m\u001b[39m.\u001b[39;00m\u001b[39mapply\u001b[39;00m \u001b[39mimport\u001b[39;00m frame_apply\n\u001b[0;32m  10027\u001b[0m op \u001b[39m=\u001b[39m frame_apply(\n\u001b[0;32m  10028\u001b[0m     \u001b[39mself\u001b[39m,\n\u001b[0;32m  10029\u001b[0m     func\u001b[39m=\u001b[39mfunc,\n\u001b[1;32m   (...)\u001b[0m\n\u001b[0;32m  10035\u001b[0m     kwargs\u001b[39m=\u001b[39mkwargs,\n\u001b[0;32m  10036\u001b[0m )\n\u001b[1;32m> 10037\u001b[0m \u001b[39mreturn\u001b[39;00m op\u001b[39m.\u001b[39;49mapply()\u001b[39m.\u001b[39m__finalize__(\u001b[39mself\u001b[39m, method\u001b[39m=\u001b[39m\u001b[39m\"\u001b[39m\u001b[39mapply\u001b[39m\u001b[39m\"\u001b[39m)\n",
      "File \u001b[1;32mc:\\Users\\soong\\AppData\\Local\\Programs\\Python\\Python312\\Lib\\site-packages\\pandas\\core\\apply.py:837\u001b[0m, in \u001b[0;36mFrameApply.apply\u001b[1;34m(self)\u001b[0m\n\u001b[0;32m    834\u001b[0m \u001b[39melif\u001b[39;00m \u001b[39mself\u001b[39m\u001b[39m.\u001b[39mraw:\n\u001b[0;32m    835\u001b[0m     \u001b[39mreturn\u001b[39;00m \u001b[39mself\u001b[39m\u001b[39m.\u001b[39mapply_raw()\n\u001b[1;32m--> 837\u001b[0m \u001b[39mreturn\u001b[39;00m \u001b[39mself\u001b[39;49m\u001b[39m.\u001b[39;49mapply_standard()\n",
      "File \u001b[1;32mc:\\Users\\soong\\AppData\\Local\\Programs\\Python\\Python312\\Lib\\site-packages\\pandas\\core\\apply.py:963\u001b[0m, in \u001b[0;36mFrameApply.apply_standard\u001b[1;34m(self)\u001b[0m\n\u001b[0;32m    962\u001b[0m \u001b[39mdef\u001b[39;00m \u001b[39mapply_standard\u001b[39m(\u001b[39mself\u001b[39m):\n\u001b[1;32m--> 963\u001b[0m     results, res_index \u001b[39m=\u001b[39m \u001b[39mself\u001b[39;49m\u001b[39m.\u001b[39;49mapply_series_generator()\n\u001b[0;32m    965\u001b[0m     \u001b[39m# wrap results\u001b[39;00m\n\u001b[0;32m    966\u001b[0m     \u001b[39mreturn\u001b[39;00m \u001b[39mself\u001b[39m\u001b[39m.\u001b[39mwrap_results(results, res_index)\n",
      "File \u001b[1;32mc:\\Users\\soong\\AppData\\Local\\Programs\\Python\\Python312\\Lib\\site-packages\\pandas\\core\\apply.py:979\u001b[0m, in \u001b[0;36mFrameApply.apply_series_generator\u001b[1;34m(self)\u001b[0m\n\u001b[0;32m    976\u001b[0m \u001b[39mwith\u001b[39;00m option_context(\u001b[39m\"\u001b[39m\u001b[39mmode.chained_assignment\u001b[39m\u001b[39m\"\u001b[39m, \u001b[39mNone\u001b[39;00m):\n\u001b[0;32m    977\u001b[0m     \u001b[39mfor\u001b[39;00m i, v \u001b[39min\u001b[39;00m \u001b[39menumerate\u001b[39m(series_gen):\n\u001b[0;32m    978\u001b[0m         \u001b[39m# ignore SettingWithCopy here in case the user mutates\u001b[39;00m\n\u001b[1;32m--> 979\u001b[0m         results[i] \u001b[39m=\u001b[39m \u001b[39mself\u001b[39;49m\u001b[39m.\u001b[39;49mfunc(v, \u001b[39m*\u001b[39;49m\u001b[39mself\u001b[39;49m\u001b[39m.\u001b[39;49margs, \u001b[39m*\u001b[39;49m\u001b[39m*\u001b[39;49m\u001b[39mself\u001b[39;49m\u001b[39m.\u001b[39;49mkwargs)\n\u001b[0;32m    980\u001b[0m         \u001b[39mif\u001b[39;00m \u001b[39misinstance\u001b[39m(results[i], ABCSeries):\n\u001b[0;32m    981\u001b[0m             \u001b[39m# If we have a view on v, we need to make a copy because\u001b[39;00m\n\u001b[0;32m    982\u001b[0m             \u001b[39m#  series_generator will swap out the underlying data\u001b[39;00m\n\u001b[0;32m    983\u001b[0m             results[i] \u001b[39m=\u001b[39m results[i]\u001b[39m.\u001b[39mcopy(deep\u001b[39m=\u001b[39m\u001b[39mFalse\u001b[39;00m)\n",
      "\u001b[1;32mc:\\Users\\soong\\Documents\\LSE Academics\\DS105A\\Group Project\\ds105a-project-dees-nuts\\notebooks\\genius_scraper.ipynb Cell 14\u001b[0m line \u001b[0;36m2\n\u001b[0;32m      <a href='vscode-notebook-cell:/c%3A/Users/soong/Documents/LSE%20Academics/DS105A/Group%20Project/ds105a-project-dees-nuts/notebooks/genius_scraper.ipynb#X16sZmlsZQ%3D%3D?line=0'>1</a>\u001b[0m \u001b[39m# add Genius URL of each song to dataframe\u001b[39;00m\n\u001b[1;32m----> <a href='vscode-notebook-cell:/c%3A/Users/soong/Documents/LSE%20Academics/DS105A/Group%20Project/ds105a-project-dees-nuts/notebooks/genius_scraper.ipynb#X16sZmlsZQ%3D%3D?line=1'>2</a>\u001b[0m songs_df[\u001b[39m'\u001b[39m\u001b[39mGenius_URL\u001b[39m\u001b[39m'\u001b[39m] \u001b[39m=\u001b[39m songs_df\u001b[39m.\u001b[39mapply(\u001b[39mlambda\u001b[39;00m row: generate_song_url(row[\u001b[39m'\u001b[39m\u001b[39mArtist\u001b[39m\u001b[39m'\u001b[39m], row[\u001b[39m'\u001b[39m\u001b[39mTitle\u001b[39m\u001b[39m'\u001b[39m]), axis\u001b[39m=\u001b[39m\u001b[39m1\u001b[39m)\n",
      "\u001b[1;31mNameError\u001b[0m: name 'generate_song_url' is not defined"
     ]
    }
   ],
   "source": [
    "# add Genius URL of each song to dataframe\n",
    "songs_df['Genius_URL'] = songs_df.apply(lambda row: generate_song_url(row['Artist'], row['Title']), axis=1)"
   ]
  },
  {
   "cell_type": "code",
   "execution_count": null,
   "metadata": {},
   "outputs": [],
   "source": [
    "# add Genius lyrics of each song to dataframe\n",
    "songs_df['Genius_lyrics'] = songs_df.apply(lambda row: scrape_lyrics(my_session, row['Genius_URL']), axis=1)"
   ]
  },
  {
   "cell_type": "code",
   "execution_count": null,
   "metadata": {},
   "outputs": [
    {
     "data": {
      "text/html": [
       "<div>\n",
       "<style scoped>\n",
       "    .dataframe tbody tr th:only-of-type {\n",
       "        vertical-align: middle;\n",
       "    }\n",
       "\n",
       "    .dataframe tbody tr th {\n",
       "        vertical-align: top;\n",
       "    }\n",
       "\n",
       "    .dataframe thead th {\n",
       "        text-align: right;\n",
       "    }\n",
       "</style>\n",
       "<table border=\"1\" class=\"dataframe\">\n",
       "  <thead>\n",
       "    <tr style=\"text-align: right;\">\n",
       "      <th></th>\n",
       "      <th>Title</th>\n",
       "      <th>Artist</th>\n",
       "      <th>Genius_URL</th>\n",
       "      <th>Genius_lyrics</th>\n",
       "    </tr>\n",
       "  </thead>\n",
       "  <tbody>\n",
       "    <tr>\n",
       "      <th>0</th>\n",
       "      <td>Lose Yourself</td>\n",
       "      <td>Eminem</td>\n",
       "      <td>https://genius.com/eminem-lose-yourself-lyrics</td>\n",
       "      <td>[Intro]\\nLook, if you had one shot or one oppo...</td>\n",
       "    </tr>\n",
       "    <tr>\n",
       "      <th>1</th>\n",
       "      <td>Bones</td>\n",
       "      <td>Imagine Dragons</td>\n",
       "      <td>https://genius.com/imagine-dragons-bones-lyrics</td>\n",
       "      <td>[Verse 1]\\nGimme, gimme, gimme some time to th...</td>\n",
       "    </tr>\n",
       "    <tr>\n",
       "      <th>2</th>\n",
       "      <td>Love Story</td>\n",
       "      <td>Taylor Swift</td>\n",
       "      <td>https://genius.com/taylor-swift-love-story-lyrics</td>\n",
       "      <td>[Verse 1]\\nWe were both young when I first saw...</td>\n",
       "    </tr>\n",
       "  </tbody>\n",
       "</table>\n",
       "</div>"
      ],
      "text/plain": [
       "           Title           Artist  \\\n",
       "0  Lose Yourself           Eminem   \n",
       "1          Bones  Imagine Dragons   \n",
       "2     Love Story     Taylor Swift   \n",
       "\n",
       "                                          Genius_URL  \\\n",
       "0     https://genius.com/eminem-lose-yourself-lyrics   \n",
       "1    https://genius.com/imagine-dragons-bones-lyrics   \n",
       "2  https://genius.com/taylor-swift-love-story-lyrics   \n",
       "\n",
       "                                       Genius_lyrics  \n",
       "0  [Intro]\\nLook, if you had one shot or one oppo...  \n",
       "1  [Verse 1]\\nGimme, gimme, gimme some time to th...  \n",
       "2  [Verse 1]\\nWe were both young when I first saw...  "
      ]
     },
     "execution_count": 9,
     "metadata": {},
     "output_type": "execute_result"
    }
   ],
   "source": [
    "songs_df"
   ]
  }
 ],
 "metadata": {
  "kernelspec": {
   "display_name": "Python 3",
   "language": "python",
   "name": "python3"
  },
  "language_info": {
   "codemirror_mode": {
    "name": "ipython",
    "version": 3
   },
   "file_extension": ".py",
   "mimetype": "text/x-python",
   "name": "python",
   "nbconvert_exporter": "python",
   "pygments_lexer": "ipython3",
   "version": "3.12.0"
  }
 },
 "nbformat": 4,
 "nbformat_minor": 2
}
