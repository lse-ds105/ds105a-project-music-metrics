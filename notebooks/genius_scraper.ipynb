{
 "cells": [
  {
   "cell_type": "markdown",
   "metadata": {},
   "source": [
    "### Scraping song lyrics using Genius API"
   ]
  },
  {
   "cell_type": "markdown",
   "metadata": {},
   "source": [
    "Import necessary packages"
   ]
  },
  {
   "cell_type": "code",
   "execution_count": 1,
   "metadata": {},
   "outputs": [],
   "source": [
    "import json\n",
    "import requests\n",
    "import pandas as pd\n",
    "from scrapy import Selector\n",
    "from pprint import pprint"
   ]
  },
  {
   "cell_type": "markdown",
   "metadata": {},
   "source": [
    "Open JSON file containing credentials"
   ]
  },
  {
   "cell_type": "code",
   "execution_count": 2,
   "metadata": {},
   "outputs": [],
   "source": [
    "credentials_file_path = \"./credentials.json\"\n",
    "\n",
    "# open the file and load the data into a variable\n",
    "with open(credentials_file_path, \"r\") as f:\n",
    "    credentials = json.load(f)"
   ]
  },
  {
   "cell_type": "markdown",
   "metadata": {},
   "source": [
    "Initialise a new session"
   ]
  },
  {
   "cell_type": "code",
   "execution_count": 3,
   "metadata": {},
   "outputs": [],
   "source": [
    "# start a new session\n",
    "session = requests.Session()"
   ]
  },
  {
   "cell_type": "markdown",
   "metadata": {},
   "source": [
    "I created a custom function `scrape_lyrics` to scrape song lyrics from the Genius page for any given song. \n",
    "\n",
    "Note that the lyrics returned are formatted such that each line of lyric appears in a new line, similar to how it is displayed on the Genius page."
   ]
  },
  {
   "cell_type": "code",
   "execution_count": 4,
   "metadata": {},
   "outputs": [],
   "source": [
    "def scrape_lyrics(song_url):\n",
    "    '''\n",
    "    Returns a string of song lyrics, with each line separated by a new line\n",
    "\n",
    "        Parameters:\n",
    "            song_url (str): The URL of the Genius page for the song\n",
    "\n",
    "        ReturnsL\n",
    "            lyrics (str): The lyrics of the song\n",
    "    '''\n",
    "    response = session.get(song_url)\n",
    "    sel = Selector(text=response.text)\n",
    "    lyrics = '\\n'.join(sel.css('div.Lyrics__Container-sc-1ynbvzw-1.kUgSbL ::text').getall())\n",
    "\n",
    "    return lyrics"
   ]
  },
  {
   "cell_type": "markdown",
   "metadata": {},
   "source": [
    "For example:"
   ]
  },
  {
   "cell_type": "code",
   "execution_count": 5,
   "metadata": {},
   "outputs": [
    {
     "name": "stdout",
     "output_type": "stream",
     "text": [
      "[Verse 1]\n",
      "I don't know what you've been told\n",
      "But time is running out, no need to take it slow\n",
      "I'm stepping to you toe-to-toe\n",
      "I should be scared, honey, maybe so\n",
      "[Chorus]\n",
      "But I ain't worried 'bout it right now (Right now)\n",
      "Keeping dreams alive, 1999, heroes\n",
      "I \n",
      "ain't worried 'bout it right now (Right now)\n",
      "Swimmin' in the floods, \n",
      "dancing on the clouds below\n",
      "[Post-Chorus]\n",
      "I ain't worried 'bout it\n",
      "I ain't worried 'bout it (Hey)\n",
      "[Verse 2]\n",
      "I don't know what you've been told\n",
      "But time is running out so spend it like it's gold\n",
      "I'm living like I'm nine-zeros\n",
      "Got no regrets even when I am broke (Yeah)\n",
      "I'm at my best when I got something I'm wanting to steal\n",
      "Way too busy for them problems and problems to feel (Yeah, yeah)\n",
      "No stressing, just obsessing with sealing the deal\n",
      "I'll take it in and let it go\n",
      "[Chorus]\n",
      "But I ain't worried 'bout it right now (Right now)\n",
      "Keeping dreams alive, 1999, heroes\n",
      "I ain't worried 'bout it right now (Right now)\n",
      "Swimmin' in the floods, dancing on the clouds below\n",
      "[Post-Chorus]\n",
      "I ain't worried 'bout it\n",
      "I ain't worried 'bout it (Hey)\n",
      "[Bridge]\n",
      "Ooh, I ain't worried\n",
      "Ooh, oh, no, no\n",
      "[Chorus]\n",
      "I ain't worried 'bout it right now (Right now)\n",
      "Keeping dreams alive, 1999, heroes\n",
      "I ain't worried 'bout it right now (Right now)\n",
      "Swimmin' in the floods, dancing on the clouds below\n",
      "[Post-Chorus]\n",
      "I ain't worried 'bout it (Ooh, hey)\n",
      "I ain't worried 'bout it (Ooh, hey)\n",
      "[Outro]\n",
      "I ain't worried 'bout it\n"
     ]
    }
   ],
   "source": [
    "print(scrape_lyrics(\"https://genius.com/Onerepublic-i-aint-worried-lyrics\"))"
   ]
  },
  {
   "cell_type": "markdown",
   "metadata": {},
   "source": [
    "At this point of data collection, we will have a pandas dataframe of already selected and filtered songs from using the YouTube API. Critically, the dataframe will have information on the name and artist of each song.\n",
    "\n",
    "We now want to add the lyrics of each song into the dataframe."
   ]
  },
  {
   "cell_type": "code",
   "execution_count": 6,
   "metadata": {},
   "outputs": [],
   "source": [
    "# create placeholder dataframe for testing\n",
    "\n",
    "songs_data = {\n",
    "    'Name': ['Yellow', 'Warriors', 'You Belong With Me'],\n",
    "    'Artist': ['Coldplay', 'Imagine Dragons', 'Taylor Swift']\n",
    "}\n",
    "\n",
    "songs_df = pd.DataFrame(songs_data)"
   ]
  },
  {
   "cell_type": "code",
   "execution_count": 7,
   "metadata": {},
   "outputs": [
    {
     "data": {
      "text/html": [
       "<div>\n",
       "<style scoped>\n",
       "    .dataframe tbody tr th:only-of-type {\n",
       "        vertical-align: middle;\n",
       "    }\n",
       "\n",
       "    .dataframe tbody tr th {\n",
       "        vertical-align: top;\n",
       "    }\n",
       "\n",
       "    .dataframe thead th {\n",
       "        text-align: right;\n",
       "    }\n",
       "</style>\n",
       "<table border=\"1\" class=\"dataframe\">\n",
       "  <thead>\n",
       "    <tr style=\"text-align: right;\">\n",
       "      <th></th>\n",
       "      <th>Name</th>\n",
       "      <th>Artist</th>\n",
       "    </tr>\n",
       "  </thead>\n",
       "  <tbody>\n",
       "    <tr>\n",
       "      <th>0</th>\n",
       "      <td>Yellow</td>\n",
       "      <td>Coldplay</td>\n",
       "    </tr>\n",
       "    <tr>\n",
       "      <th>1</th>\n",
       "      <td>Warriors</td>\n",
       "      <td>Imagine Dragons</td>\n",
       "    </tr>\n",
       "    <tr>\n",
       "      <th>2</th>\n",
       "      <td>You Belong With Me</td>\n",
       "      <td>Taylor Swift</td>\n",
       "    </tr>\n",
       "  </tbody>\n",
       "</table>\n",
       "</div>"
      ],
      "text/plain": [
       "                 Name           Artist\n",
       "0              Yellow         Coldplay\n",
       "1            Warriors  Imagine Dragons\n",
       "2  You Belong With Me     Taylor Swift"
      ]
     },
     "execution_count": 7,
     "metadata": {},
     "output_type": "execute_result"
    }
   ],
   "source": [
    "songs_df"
   ]
  },
  {
   "cell_type": "code",
   "execution_count": 8,
   "metadata": {},
   "outputs": [],
   "source": [
    "# Replace 'YOUR_API_KEY' with your actual Genius API key\n",
    "GENIUS_API_KEY = credentials['client_access_token']\n",
    "BASE_URL = 'https://api.genius.com'\n",
    "\n",
    "def search_song_url(song_name, artist_name):\n",
    "    search_url = BASE_URL + '/search'\n",
    "    headers = {'Authorization': f'Bearer {GENIUS_API_KEY}'}\n",
    "    params = {'q': f'{song_name} {artist_name}'}\n",
    "\n",
    "    response = requests.get(search_url, headers=headers, params=params)\n",
    "    data = response.json()\n",
    "\n",
    "    # Check if the request was successful\n",
    "    if response.status_code == 200:\n",
    "        hits = data['response']['hits']\n",
    "        if hits:\n",
    "            # Extract the URL of the first search result\n",
    "            song_url = hits[0]['result']['url']\n",
    "            return song_url\n",
    "        else:\n",
    "            print('Song not found.')\n",
    "    else:\n",
    "        print(f'Error: {data[\"meta\"][\"message\"]}')\n",
    "\n",
    "\n",
    "song_name = 'Yellow'\n",
    "artist_name = 'Coldplay'\n",
    "song_url = search_song_url(song_name, artist_name)"
   ]
  },
  {
   "cell_type": "code",
   "execution_count": 9,
   "metadata": {},
   "outputs": [],
   "source": [
    "songs_df['Genius_URL'] = songs_df.apply(lambda row: search_song_url(row['Name'], row['Artist']), axis=1)"
   ]
  },
  {
   "cell_type": "code",
   "execution_count": 16,
   "metadata": {},
   "outputs": [],
   "source": [
    "songs_df['Genius_lyrics'] = songs_df.apply(lambda row: scrape_lyrics(row['Genius_URL']), axis=1)"
   ]
  },
  {
   "cell_type": "code",
   "execution_count": 23,
   "metadata": {},
   "outputs": [
    {
     "name": "stdout",
     "output_type": "stream",
     "text": [
      "                 Name           Artist  \\\n",
      "0              Yellow         Coldplay   \n",
      "1            Warriors  Imagine Dragons   \n",
      "2  You Belong With Me     Taylor Swift   \n",
      "\n",
      "                                          Genius_URL  \\\n",
      "0          https://genius.com/Coldplay-yellow-lyrics   \n",
      "1  https://genius.com/Imagine-dragons-warriors-ly...   \n",
      "2  https://genius.com/Taylor-swift-you-belong-wit...   \n",
      "\n",
      "                                       Genius_lyrics  \n",
      "0  [Verse 1: Chris Martin]\\nLook at the stars\\nLo...  \n",
      "1  [Verse 1]\\nAs a child, you would wait and watc...  \n",
      "2  [Verse 1]\\nYou're on the phone with your girlf...  \n"
     ]
    }
   ],
   "source": [
    "pprint(songs_df)"
   ]
  },
  {
   "cell_type": "markdown",
   "metadata": {},
   "source": [
    "Search by artist name"
   ]
  },
  {
   "cell_type": "code",
   "execution_count": null,
   "metadata": {},
   "outputs": [],
   "source": [
    "search_term = \"Yellow by Coldplay\"\n",
    "genius_search_url = f\"http://api.genius.com/search?q={search_term}&access_token={credentials['client_access_token']}\""
   ]
  },
  {
   "cell_type": "code",
   "execution_count": null,
   "metadata": {},
   "outputs": [],
   "source": [
    "response = requests.get(genius_search_url)\n",
    "json_data = response.json()"
   ]
  },
  {
   "cell_type": "code",
   "execution_count": null,
   "metadata": {},
   "outputs": [],
   "source": [
    "json_file_path = './output.json'\n",
    "\n",
    "with open(json_file_path,'w') as f:\n",
    "    json.dump(json_data, f)"
   ]
  },
  {
   "cell_type": "markdown",
   "metadata": {},
   "source": [
    "Get song titles"
   ]
  },
  {
   "cell_type": "code",
   "execution_count": null,
   "metadata": {},
   "outputs": [],
   "source": [
    "for song in json_data['response']['hits']:\n",
    "    print(song['result']['full_title'])"
   ]
  },
  {
   "cell_type": "markdown",
   "metadata": {},
   "source": [
    "Get song titles and page view counts"
   ]
  },
  {
   "cell_type": "code",
   "execution_count": null,
   "metadata": {},
   "outputs": [],
   "source": [
    "coldplay_songs = []\n",
    "for song in json_data['response']['hits']:\n",
    "    coldplay_songs.append([song['result']['title_with_featured'], song['result']['url']])\n",
    "    \n",
    "# make a Pandas dataframe from a list\n",
    "coldplay_df = pd.DataFrame(coldplay_songs)\n",
    "coldplay_df.columns = ['song_title', 'song_url']\n",
    "coldplay_df"
   ]
  }
 ],
 "metadata": {
  "kernelspec": {
   "display_name": "Python 3",
   "language": "python",
   "name": "python3"
  },
  "language_info": {
   "codemirror_mode": {
    "name": "ipython",
    "version": 3
   },
   "file_extension": ".py",
   "mimetype": "text/x-python",
   "name": "python",
   "nbconvert_exporter": "python",
   "pygments_lexer": "ipython3",
   "version": "3.12.0"
  }
 },
 "nbformat": 4,
 "nbformat_minor": 2
}
