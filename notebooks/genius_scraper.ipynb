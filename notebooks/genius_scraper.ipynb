{
 "cells": [
  {
   "cell_type": "markdown",
   "metadata": {},
   "source": [
    "### Scraping song lyrics using Genius API"
   ]
  },
  {
   "cell_type": "markdown",
   "metadata": {},
   "source": [
    "Import necessary packages"
   ]
  },
  {
   "cell_type": "code",
   "execution_count": 29,
   "metadata": {},
   "outputs": [],
   "source": [
    "import json\n",
    "import requests\n",
    "import pandas as pd\n",
    "from scrapy import Selector\n",
    "from pprint import pprint"
   ]
  },
  {
   "cell_type": "markdown",
   "metadata": {},
   "source": [
    "Open JSON file containing credentials"
   ]
  },
  {
   "cell_type": "code",
   "execution_count": 30,
   "metadata": {},
   "outputs": [],
   "source": [
    "credentials_file_path = \"../credentials.json\"\n",
    "\n",
    "with open(credentials_file_path, \"r\") as f:\n",
    "    credentials = json.load(f)"
   ]
  },
  {
   "cell_type": "markdown",
   "metadata": {},
   "source": [
    "Initialise a new session"
   ]
  },
  {
   "cell_type": "code",
   "execution_count": 31,
   "metadata": {},
   "outputs": [],
   "source": [
    "session = requests.Session()"
   ]
  },
  {
   "cell_type": "markdown",
   "metadata": {},
   "source": [
    "I created a custom function `generate_song_url` to generate the Genius page URL for a song using the title and artist of the song. "
   ]
  },
  {
   "cell_type": "code",
   "execution_count": 45,
   "metadata": {},
   "outputs": [],
   "source": [
    "def generate_song_url(song_artist, song_title):\n",
    "    '''\n",
    "    Returns a string of the URL for the Genius page of the song\n",
    "\n",
    "        Parameters:\n",
    "            song_artist (str): The artist of the song\n",
    "            song_title (str): The title of the song\n",
    "\n",
    "        Returns:\n",
    "            song_url (str): The URL for the Genius page of the song\n",
    "    '''\n",
    "    base_url = 'https://genius.com/'\n",
    "    \n",
    "    formatted_artist = song_artist.lower().replace(' ', '-')\n",
    "    formatted_title = song_title.lower().replace(' ', '-')\n",
    "    \n",
    "    song_url = f'{base_url}{formatted_artist}-{formatted_title}-lyrics'\n",
    "\n",
    "    return song_url"
   ]
  },
  {
   "cell_type": "markdown",
   "metadata": {},
   "source": [
    "I created a custom function `scrape_lyrics` to scrape song lyrics from the Genius page for any given song. \n",
    "\n",
    "Note that the lyrics returned are formatted such that each line of lyric appears in a new line, similar to how it is displayed on the Genius page."
   ]
  },
  {
   "cell_type": "code",
   "execution_count": 46,
   "metadata": {},
   "outputs": [],
   "source": [
    "def scrape_lyrics(song_url):\n",
    "    '''\n",
    "    Returns a string of song lyrics, with each line separated by a new line\n",
    "\n",
    "        Parameters:\n",
    "            song_url (str): The URL of the Genius page for the song\n",
    "\n",
    "        Returns:\n",
    "            lyrics (str): The lyrics of the song\n",
    "    '''\n",
    "    response = session.get(song_url)\n",
    "    sel = Selector(text=response.text)\n",
    "    lyrics = '\\n'.join(sel.css('div.Lyrics__Container-sc-1ynbvzw-1.kUgSbL ::text').getall())\n",
    "\n",
    "    return lyrics"
   ]
  },
  {
   "cell_type": "markdown",
   "metadata": {},
   "source": [
    "At this point of data collection, we will have a pandas dataframe of already selected and filtered songs from using the YouTube API. Critically, the dataframe will have information on the name and artist of each song.\n",
    "\n",
    "We now want to add the lyrics of each song into the dataframe."
   ]
  },
  {
   "cell_type": "code",
   "execution_count": 40,
   "metadata": {},
   "outputs": [],
   "source": [
    "# create placeholder dataframe for testing\n",
    "songs_data = {\n",
    "    'Title': ['Lose Yourself', 'Bones', 'Love Story'],\n",
    "    'Artist': ['Eminem', 'Imagine Dragons', 'Taylor Swift']\n",
    "}\n",
    "\n",
    "songs_df = pd.DataFrame(songs_data)"
   ]
  },
  {
   "cell_type": "code",
   "execution_count": 42,
   "metadata": {},
   "outputs": [],
   "source": [
    "# add Genius URL of each song to dataframe\n",
    "songs_df['Genius_URL'] = songs_df.apply(lambda row: generate_song_url(row['Artist'], row['Title']), axis=1)"
   ]
  },
  {
   "cell_type": "code",
   "execution_count": 43,
   "metadata": {},
   "outputs": [],
   "source": [
    "# add Genius lyrics of each song to dataframe\n",
    "songs_df['Genius_lyrics'] = songs_df.apply(lambda row: scrape_lyrics(row['Genius_URL']), axis=1)"
   ]
  },
  {
   "cell_type": "code",
   "execution_count": 44,
   "metadata": {},
   "outputs": [
    {
     "data": {
      "text/html": [
       "<div>\n",
       "<style scoped>\n",
       "    .dataframe tbody tr th:only-of-type {\n",
       "        vertical-align: middle;\n",
       "    }\n",
       "\n",
       "    .dataframe tbody tr th {\n",
       "        vertical-align: top;\n",
       "    }\n",
       "\n",
       "    .dataframe thead th {\n",
       "        text-align: right;\n",
       "    }\n",
       "</style>\n",
       "<table border=\"1\" class=\"dataframe\">\n",
       "  <thead>\n",
       "    <tr style=\"text-align: right;\">\n",
       "      <th></th>\n",
       "      <th>Title</th>\n",
       "      <th>Artist</th>\n",
       "      <th>Genius_URL</th>\n",
       "      <th>Genius_lyrics</th>\n",
       "    </tr>\n",
       "  </thead>\n",
       "  <tbody>\n",
       "    <tr>\n",
       "      <th>0</th>\n",
       "      <td>Lose Yourself</td>\n",
       "      <td>Eminem</td>\n",
       "      <td>https://genius.com/eminem-lose-yourself-lyrics</td>\n",
       "      <td>[Intro]\\nLook, if you had one shot or one oppo...</td>\n",
       "    </tr>\n",
       "    <tr>\n",
       "      <th>1</th>\n",
       "      <td>Bones</td>\n",
       "      <td>Imagine Dragons</td>\n",
       "      <td>https://genius.com/imagine-dragons-bones-lyrics</td>\n",
       "      <td>[Verse 1]\\nGimme, gimme, gimme some time to th...</td>\n",
       "    </tr>\n",
       "    <tr>\n",
       "      <th>2</th>\n",
       "      <td>Love Story</td>\n",
       "      <td>Taylor Swift</td>\n",
       "      <td>https://genius.com/taylor-swift-love-story-lyrics</td>\n",
       "      <td>[Verse 1]\\nWe were both young when I first saw...</td>\n",
       "    </tr>\n",
       "  </tbody>\n",
       "</table>\n",
       "</div>"
      ],
      "text/plain": [
       "           Title           Artist  \\\n",
       "0  Lose Yourself           Eminem   \n",
       "1          Bones  Imagine Dragons   \n",
       "2     Love Story     Taylor Swift   \n",
       "\n",
       "                                          Genius_URL  \\\n",
       "0     https://genius.com/eminem-lose-yourself-lyrics   \n",
       "1    https://genius.com/imagine-dragons-bones-lyrics   \n",
       "2  https://genius.com/taylor-swift-love-story-lyrics   \n",
       "\n",
       "                                       Genius_lyrics  \n",
       "0  [Intro]\\nLook, if you had one shot or one oppo...  \n",
       "1  [Verse 1]\\nGimme, gimme, gimme some time to th...  \n",
       "2  [Verse 1]\\nWe were both young when I first saw...  "
      ]
     },
     "execution_count": 44,
     "metadata": {},
     "output_type": "execute_result"
    }
   ],
   "source": [
    "songs_df"
   ]
  }
 ],
 "metadata": {
  "kernelspec": {
   "display_name": "Python 3",
   "language": "python",
   "name": "python3"
  },
  "language_info": {
   "codemirror_mode": {
    "name": "ipython",
    "version": 3
   },
   "file_extension": ".py",
   "mimetype": "text/x-python",
   "name": "python",
   "nbconvert_exporter": "python",
   "pygments_lexer": "ipython3",
   "version": "3.12.0"
  }
 },
 "nbformat": 4,
 "nbformat_minor": 2
}
