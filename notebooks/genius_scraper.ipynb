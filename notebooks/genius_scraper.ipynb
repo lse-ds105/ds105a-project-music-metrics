{
 "cells": [
  {
   "cell_type": "markdown",
   "metadata": {},
   "source": [
    "## Scraping song lyrics using Genius API"
   ]
  },
  {
   "cell_type": "markdown",
   "metadata": {},
   "source": [
    "Import necessary packages"
   ]
  },
  {
   "cell_type": "code",
   "execution_count": 1,
   "metadata": {},
   "outputs": [],
   "source": [
    "import sys\n",
    "import json\n",
    "import requests\n",
    "import pandas as pd\n",
    "from scrapy import Selector\n",
    "from pprint import pprint\n",
    "import re\n",
    "\n",
    "# sys.path.append('../dees_tools')\n",
    "# from deestools import *"
   ]
  },
  {
   "cell_type": "markdown",
   "metadata": {},
   "source": [
    "Open JSON file containing credentials"
   ]
  },
  {
   "cell_type": "code",
   "execution_count": 2,
   "metadata": {},
   "outputs": [],
   "source": [
    "credentials_file_path = '../credentials.json'\n",
    "\n",
    "with open(credentials_file_path, 'r') as f:\n",
    "    credentials = json.load(f)"
   ]
  },
  {
   "cell_type": "markdown",
   "metadata": {},
   "source": [
    "Initialise a new session"
   ]
  },
  {
   "cell_type": "code",
   "execution_count": 3,
   "metadata": {},
   "outputs": [],
   "source": [
    "my_session = requests.Session()"
   ]
  },
  {
   "cell_type": "markdown",
   "metadata": {},
   "source": [
    "I created a custom function `generate_song_url` to generate the Genius page URL for a song using the title and artist of the song.\n",
    "\n",
    "**Note: might need to change this to use Genius API to query for song URL instead if there are too many difference between artist and song title from Youtube data and Genius data**"
   ]
  },
  {
   "cell_type": "code",
   "execution_count": 4,
   "metadata": {},
   "outputs": [],
   "source": [
    "def generate_song_url(song_artist, song_title):\n",
    "    '''\n",
    "    Returns a string of the URL for the Genius page of the song\n",
    "\n",
    "        Parameters:\n",
    "            song_artist (str): The artist of the song\n",
    "            song_title (str): The title of the song\n",
    "\n",
    "        Returns:\n",
    "            song_url (str): The URL for the Genius page of the song\n",
    "    '''\n",
    "    \n",
    "    base_url = 'https://genius.com/'\n",
    "    \n",
    "    # format the artist name and song title\n",
    "    song_artist = song_artist.replace('&', 'and')\n",
    "    formatted_artist = song_artist.lower().replace(' ', '-')\n",
    "    formatted_title = song_title.lower().replace(' ', '-')\n",
    "    \n",
    "    # generate the song URL by concatenating strings according to Genius formatting\n",
    "    song_url = f'{base_url}{formatted_artist}-{formatted_title}-lyrics'\n",
    "\n",
    "    return song_url"
   ]
  },
  {
   "cell_type": "markdown",
   "metadata": {},
   "source": [
    "I created a custom function `scrape_lyrics` to scrape song lyrics from the Genius page for any given song. \n",
    "\n",
    "Note that the lyrics returned are formatted such that each line of lyric appears in a new line, similar to how it is displayed on the Genius page."
   ]
  },
  {
   "cell_type": "code",
   "execution_count": 5,
   "metadata": {},
   "outputs": [],
   "source": [
    "def scrape_lyrics(session, song_url):\n",
    "    '''\n",
    "    Returns a string of song lyrics, with each line separated by a new line\n",
    "\n",
    "        Parameters:\n",
    "            session (variable): The session that has been initialised for requesting from the Genius website\n",
    "            song_url (str): The URL of the Genius page for the song\n",
    "\n",
    "        Returns:\n",
    "            lyrics (str): The lyrics of the song\n",
    "    '''\n",
    "    \n",
    "    # use initialised session to enhance performance\n",
    "    response = session.get(song_url)\n",
    "    sel = Selector(text=response.text)\n",
    "    \n",
    "    # scrape lyrics into one large string\n",
    "    raw_lyrics = ' '.join(sel.css('div.Lyrics__Container-sc-1ynbvzw-1.kUgSbL ::text').getall())\n",
    "\n",
    "    # clean lyrics using regular expression to remove words in square brackets\n",
    "    pattern = r'\\[.*?\\]'\n",
    "    result_string = re.sub(pattern, '', raw_lyrics)\n",
    "    lyrics = ' '.join(result_string.split())\n",
    "\n",
    "    return lyrics"
   ]
  },
  {
   "cell_type": "markdown",
   "metadata": {},
   "source": [
    "-----"
   ]
  },
  {
   "cell_type": "markdown",
   "metadata": {},
   "source": [
    "### **Scrape lyrics of songs in CSV**"
   ]
  },
  {
   "cell_type": "markdown",
   "metadata": {},
   "source": [
    "At this point of data collection, we will have a pandas dataframe of already selected and filtered songs from using the YouTube API. Critically, the dataframe will have information on the name and artist of each song.\n",
    "\n",
    "We now want to add the lyrics of each song into the dataframe."
   ]
  },
  {
   "cell_type": "code",
   "execution_count": 6,
   "metadata": {},
   "outputs": [],
   "source": [
    "test_df = pd.read_csv('../data/test_10_songs.csv')"
   ]
  },
  {
   "cell_type": "code",
   "execution_count": 7,
   "metadata": {},
   "outputs": [],
   "source": [
    "# add Genius URL of each song to dataframe\n",
    "test_df['Genius_URL'] = test_df.apply(lambda row: generate_song_url(row['Artist'], row['Song']), axis=1)"
   ]
  },
  {
   "cell_type": "code",
   "execution_count": 8,
   "metadata": {},
   "outputs": [],
   "source": [
    "# add Genius lyrics of each song to dataframe\n",
    "test_df['Genius_lyrics'] = test_df.apply(lambda row: scrape_lyrics(my_session, row['Genius_URL']), axis=1)"
   ]
  },
  {
   "cell_type": "code",
   "execution_count": 9,
   "metadata": {},
   "outputs": [],
   "source": [
    "# save to CSV for use in data visualisation\n",
    "test_df.to_csv('../data/10_songs_with_lyrics.csv')"
   ]
  }
 ],
 "metadata": {
  "kernelspec": {
   "display_name": "Python 3",
   "language": "python",
   "name": "python3"
  },
  "language_info": {
   "codemirror_mode": {
    "name": "ipython",
    "version": 3
   },
   "file_extension": ".py",
   "mimetype": "text/x-python",
   "name": "python",
   "nbconvert_exporter": "python",
   "pygments_lexer": "ipython3",
   "version": "3.12.0"
  }
 },
 "nbformat": 4,
 "nbformat_minor": 2
}
