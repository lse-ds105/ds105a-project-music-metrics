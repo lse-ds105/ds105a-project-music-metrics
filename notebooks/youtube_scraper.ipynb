{
 "cells": [
  {
   "cell_type": "markdown",
   "metadata": {},
   "source": [
    "## Scraping video data using YouTube API"
   ]
  },
  {
   "cell_type": "markdown",
   "metadata": {},
   "source": [
    "#### Set-up\n",
    "\n",
    "Run the following instructions on your terminal:\n",
    "``` bash\n",
    "pip install google-api-python-client\n",
    "pip install --upgrade google-api-python-client\n",
    "```"
   ]
  },
  {
   "cell_type": "code",
   "execution_count": 1,
   "metadata": {},
   "outputs": [
    {
     "name": "stdout",
     "output_type": "stream",
     "text": [
      "Current working directory: c:\\Users\\soong\\Documents\\LSE Academics\\DS105A\\Group Project\\ds105a-project-dees-nuts\n"
     ]
    }
   ],
   "source": [
    "from googleapiclient.discovery import build\n",
    "from IPython.display import JSON\n",
    "from pprint import pprint\n",
    "import pandas as pd\n",
    "import json\n",
    "\n",
    "import os\n",
    "os.chdir(os.path.expanduser(\"../\"))\n",
    "\n",
    "from dees_package.youtube_functions import *\n",
    "\n",
    "print(\"Current working directory:\", os.getcwd())"
   ]
  },
  {
   "cell_type": "code",
   "execution_count": 2,
   "metadata": {},
   "outputs": [],
   "source": [
    "credentials_file_path = \"./credentials.json\"\n",
    "\n",
    "# open the file and load the data into a variable\n",
    "with open(credentials_file_path, \"r\") as f:\n",
    "    credentials = json.load(f)"
   ]
  },
  {
   "cell_type": "code",
   "execution_count": 3,
   "metadata": {},
   "outputs": [],
   "source": [
    "# creating service object of the youtube version 3 API\n",
    "my_created_youtube = build('youtube', 'v3', developerKey=credentials['youtube_api_key'])"
   ]
  },
  {
   "cell_type": "markdown",
   "metadata": {},
   "source": [
    "## Getting a list of music videos so that we have a list of videos to analyse\n"
   ]
  },
  {
   "cell_type": "markdown",
   "metadata": {},
   "source": [
    "Carry out test search using `youtube_search`"
   ]
  },
  {
   "cell_type": "code",
   "execution_count": 4,
   "metadata": {},
   "outputs": [],
   "source": [
    "youtube_search_data, mv_video_id = youtube_search(my_created_youtube, 100, \"official music video\", \"US\", \"video\", 10)\n",
    "\n",
    "with open('./data/yt_search_data.json', 'w') as json_file:\n",
    "    json.dump(youtube_search_data, json_file, indent=4)\n",
    "\n",
    "yt_search_df = pd.DataFrame(youtube_search_data)"
   ]
  },
  {
   "cell_type": "markdown",
   "metadata": {},
   "source": [
    "## From the list of music videos, get statistics on each video\n"
   ]
  },
  {
   "cell_type": "code",
   "execution_count": 5,
   "metadata": {},
   "outputs": [],
   "source": [
    "mv_video_stats = get_stats(my_created_youtube, mv_video_id)\n",
    "with open('./data/mv_stats_data.json', 'w') as json_file:\n",
    "    json.dump(mv_video_stats, json_file, indent=4)\n",
    "\n",
    "mv_videostats_df = pd.DataFrame(mv_video_stats)"
   ]
  },
  {
   "cell_type": "code",
   "execution_count": 6,
   "metadata": {},
   "outputs": [],
   "source": [
    "# merge the mv stats and search dataframes\n",
    "searchandstats_merged_df = pd.merge(yt_search_df, mv_videostats_df, left_on='video_id', right_on='video_id')\n",
    "searchandstats_merged_df.to_json('./data/merged.json')"
   ]
  },
  {
   "cell_type": "code",
   "execution_count": 7,
   "metadata": {},
   "outputs": [],
   "source": [
    "comments_df = get_comments_in_videos(my_created_youtube, mv_video_id)"
   ]
  },
  {
   "cell_type": "code",
   "execution_count": 13,
   "metadata": {},
   "outputs": [
    {
     "data": {
      "text/html": [
       "<div>\n",
       "<style scoped>\n",
       "    .dataframe tbody tr th:only-of-type {\n",
       "        vertical-align: middle;\n",
       "    }\n",
       "\n",
       "    .dataframe tbody tr th {\n",
       "        vertical-align: top;\n",
       "    }\n",
       "\n",
       "    .dataframe thead th {\n",
       "        text-align: right;\n",
       "    }\n",
       "</style>\n",
       "<table border=\"1\" class=\"dataframe\">\n",
       "  <thead>\n",
       "    <tr style=\"text-align: right;\">\n",
       "      <th></th>\n",
       "      <th>video_id</th>\n",
       "      <th>comments</th>\n",
       "    </tr>\n",
       "  </thead>\n",
       "  <tbody>\n",
       "    <tr>\n",
       "      <th>0</th>\n",
       "      <td>kJQP7kiw5Fk</td>\n",
       "      <td>[https://youtu.be/N9xCuZylhAQ?si=X-cq4bMEY6rf-...</td>\n",
       "    </tr>\n",
       "    <tr>\n",
       "      <th>1</th>\n",
       "      <td>JGwWNGJdvx8</td>\n",
       "      <td>[Hay bro today is December 7th 2023 Thursday, ...</td>\n",
       "    </tr>\n",
       "    <tr>\n",
       "      <th>2</th>\n",
       "      <td>RgKAFK5djSk</td>\n",
       "      <td>[5 млрд просмотров ахуеть, Favourite song, ber...</td>\n",
       "    </tr>\n",
       "    <tr>\n",
       "      <th>3</th>\n",
       "      <td>OPf0YbXqDm0</td>\n",
       "      <td>[Го, 1, Indonesia 🇮🇩, I'm sad but i dance anyw...</td>\n",
       "    </tr>\n",
       "    <tr>\n",
       "      <th>4</th>\n",
       "      <td>09R8_2nJtjg</td>\n",
       "      <td>[😮❤❤❤❤❤❤❤lovely, 한국인 손 들어라, Old?, Noticed this...</td>\n",
       "    </tr>\n",
       "  </tbody>\n",
       "</table>\n",
       "</div>"
      ],
      "text/plain": [
       "      video_id                                           comments\n",
       "0  kJQP7kiw5Fk  [https://youtu.be/N9xCuZylhAQ?si=X-cq4bMEY6rf-...\n",
       "1  JGwWNGJdvx8  [Hay bro today is December 7th 2023 Thursday, ...\n",
       "2  RgKAFK5djSk  [5 млрд просмотров ахуеть, Favourite song, ber...\n",
       "3  OPf0YbXqDm0  [Го, 1, Indonesia 🇮🇩, I'm sad but i dance anyw...\n",
       "4  09R8_2nJtjg  [😮❤❤❤❤❤❤❤lovely, 한국인 손 들어라, Old?, Noticed this..."
      ]
     },
     "execution_count": 13,
     "metadata": {},
     "output_type": "execute_result"
    }
   ],
   "source": [
    "comments_df.head()"
   ]
  },
  {
   "cell_type": "code",
   "execution_count": 10,
   "metadata": {},
   "outputs": [],
   "source": [
    "deets_df = get_video_details(my_created_youtube, mv_video_id)"
   ]
  },
  {
   "cell_type": "code",
   "execution_count": 12,
   "metadata": {},
   "outputs": [
    {
     "data": {
      "text/html": [
       "<div>\n",
       "<style scoped>\n",
       "    .dataframe tbody tr th:only-of-type {\n",
       "        vertical-align: middle;\n",
       "    }\n",
       "\n",
       "    .dataframe tbody tr th {\n",
       "        vertical-align: top;\n",
       "    }\n",
       "\n",
       "    .dataframe thead th {\n",
       "        text-align: right;\n",
       "    }\n",
       "</style>\n",
       "<table border=\"1\" class=\"dataframe\">\n",
       "  <thead>\n",
       "    <tr style=\"text-align: right;\">\n",
       "      <th></th>\n",
       "      <th>video_id</th>\n",
       "      <th>channelTitle</th>\n",
       "      <th>title</th>\n",
       "      <th>description</th>\n",
       "      <th>tags</th>\n",
       "      <th>publishedAt</th>\n",
       "      <th>viewCount</th>\n",
       "      <th>likeCount</th>\n",
       "      <th>favouriteCount</th>\n",
       "      <th>commentCount</th>\n",
       "      <th>duration</th>\n",
       "      <th>definition</th>\n",
       "      <th>caption</th>\n",
       "    </tr>\n",
       "  </thead>\n",
       "  <tbody>\n",
       "    <tr>\n",
       "      <th>0</th>\n",
       "      <td>kJQP7kiw5Fk</td>\n",
       "      <td>LuisFonsiVEVO</td>\n",
       "      <td>Luis Fonsi - Despacito ft. Daddy Yankee</td>\n",
       "      <td>“Despacito” disponible ya en todas las platafo...</td>\n",
       "      <td>[Luis, Fonsi, Despacito, UMLE, Latino, Latin, ...</td>\n",
       "      <td>2017-01-13T05:00:02Z</td>\n",
       "      <td>8327492334</td>\n",
       "      <td>52536167</td>\n",
       "      <td>None</td>\n",
       "      <td>4228222</td>\n",
       "      <td>PT4M42S</td>\n",
       "      <td>hd</td>\n",
       "      <td>true</td>\n",
       "    </tr>\n",
       "    <tr>\n",
       "      <th>1</th>\n",
       "      <td>JGwWNGJdvx8</td>\n",
       "      <td>Ed Sheeran</td>\n",
       "      <td>Ed Sheeran - Shape of You (Official Music Video)</td>\n",
       "      <td>The official music video for Ed Sheeran - Shap...</td>\n",
       "      <td>[Ed Sheeran, Shape Of You, Ed Sheeran Shape Of...</td>\n",
       "      <td>2017-01-30T10:57:50Z</td>\n",
       "      <td>6149145992</td>\n",
       "      <td>32323267</td>\n",
       "      <td>None</td>\n",
       "      <td>1146134</td>\n",
       "      <td>PT4M24S</td>\n",
       "      <td>hd</td>\n",
       "      <td>false</td>\n",
       "    </tr>\n",
       "    <tr>\n",
       "      <th>2</th>\n",
       "      <td>RgKAFK5djSk</td>\n",
       "      <td>Wiz Khalifa Music</td>\n",
       "      <td>Wiz Khalifa - See You Again ft. Charlie Puth [...</td>\n",
       "      <td>Download the new Furious 7 Soundtrack Deluxe V...</td>\n",
       "      <td>[Wiz Khalifa, Blacc Hollywood, Taylor Gang, At...</td>\n",
       "      <td>2015-04-07T03:00:03Z</td>\n",
       "      <td>6108722541</td>\n",
       "      <td>42261895</td>\n",
       "      <td>None</td>\n",
       "      <td>2177000</td>\n",
       "      <td>PT3M58S</td>\n",
       "      <td>hd</td>\n",
       "      <td>true</td>\n",
       "    </tr>\n",
       "    <tr>\n",
       "      <th>3</th>\n",
       "      <td>OPf0YbXqDm0</td>\n",
       "      <td>MarkRonsonVEVO</td>\n",
       "      <td>Mark Ronson - Uptown Funk (Official Video) ft....</td>\n",
       "      <td>Official Video for Uptown Funk by Mark Ronson ...</td>\n",
       "      <td>[bruno mars uptown funk, ‌mark ronson, ‌ ブルーノマ...</td>\n",
       "      <td>2014-11-19T14:00:18Z</td>\n",
       "      <td>5098358111</td>\n",
       "      <td>21086247</td>\n",
       "      <td>None</td>\n",
       "      <td>605169</td>\n",
       "      <td>PT4M31S</td>\n",
       "      <td>hd</td>\n",
       "      <td>true</td>\n",
       "    </tr>\n",
       "    <tr>\n",
       "      <th>4</th>\n",
       "      <td>09R8_2nJtjg</td>\n",
       "      <td>Maroon5VEVO</td>\n",
       "      <td>Maroon 5 - Sugar (Official Music Video)</td>\n",
       "      <td>Buy Sugar on iTunes: http://smarturl.it/M5V\\n\\...</td>\n",
       "      <td>[maroon sugar, maroon she will be loved, maroo...</td>\n",
       "      <td>2015-01-14T15:00:11Z</td>\n",
       "      <td>3972701338</td>\n",
       "      <td>15906917</td>\n",
       "      <td>None</td>\n",
       "      <td>418290</td>\n",
       "      <td>PT5M2S</td>\n",
       "      <td>hd</td>\n",
       "      <td>true</td>\n",
       "    </tr>\n",
       "  </tbody>\n",
       "</table>\n",
       "</div>"
      ],
      "text/plain": [
       "      video_id       channelTitle  \\\n",
       "0  kJQP7kiw5Fk      LuisFonsiVEVO   \n",
       "1  JGwWNGJdvx8         Ed Sheeran   \n",
       "2  RgKAFK5djSk  Wiz Khalifa Music   \n",
       "3  OPf0YbXqDm0     MarkRonsonVEVO   \n",
       "4  09R8_2nJtjg        Maroon5VEVO   \n",
       "\n",
       "                                               title  \\\n",
       "0            Luis Fonsi - Despacito ft. Daddy Yankee   \n",
       "1   Ed Sheeran - Shape of You (Official Music Video)   \n",
       "2  Wiz Khalifa - See You Again ft. Charlie Puth [...   \n",
       "3  Mark Ronson - Uptown Funk (Official Video) ft....   \n",
       "4            Maroon 5 - Sugar (Official Music Video)   \n",
       "\n",
       "                                         description  \\\n",
       "0  “Despacito” disponible ya en todas las platafo...   \n",
       "1  The official music video for Ed Sheeran - Shap...   \n",
       "2  Download the new Furious 7 Soundtrack Deluxe V...   \n",
       "3  Official Video for Uptown Funk by Mark Ronson ...   \n",
       "4  Buy Sugar on iTunes: http://smarturl.it/M5V\\n\\...   \n",
       "\n",
       "                                                tags           publishedAt  \\\n",
       "0  [Luis, Fonsi, Despacito, UMLE, Latino, Latin, ...  2017-01-13T05:00:02Z   \n",
       "1  [Ed Sheeran, Shape Of You, Ed Sheeran Shape Of...  2017-01-30T10:57:50Z   \n",
       "2  [Wiz Khalifa, Blacc Hollywood, Taylor Gang, At...  2015-04-07T03:00:03Z   \n",
       "3  [bruno mars uptown funk, ‌mark ronson, ‌ ブルーノマ...  2014-11-19T14:00:18Z   \n",
       "4  [maroon sugar, maroon she will be loved, maroo...  2015-01-14T15:00:11Z   \n",
       "\n",
       "    viewCount likeCount favouriteCount commentCount duration definition  \\\n",
       "0  8327492334  52536167           None      4228222  PT4M42S         hd   \n",
       "1  6149145992  32323267           None      1146134  PT4M24S         hd   \n",
       "2  6108722541  42261895           None      2177000  PT3M58S         hd   \n",
       "3  5098358111  21086247           None       605169  PT4M31S         hd   \n",
       "4  3972701338  15906917           None       418290   PT5M2S         hd   \n",
       "\n",
       "  caption  \n",
       "0    true  \n",
       "1   false  \n",
       "2    true  \n",
       "3    true  \n",
       "4    true  "
      ]
     },
     "execution_count": 12,
     "metadata": {},
     "output_type": "execute_result"
    }
   ],
   "source": [
    "deets_df.head()"
   ]
  }
 ],
 "metadata": {
  "kernelspec": {
   "display_name": "base",
   "language": "python",
   "name": "python3"
  },
  "language_info": {
   "codemirror_mode": {
    "name": "ipython",
    "version": 3
   },
   "file_extension": ".py",
   "mimetype": "text/x-python",
   "name": "python",
   "nbconvert_exporter": "python",
   "pygments_lexer": "ipython3",
   "version": "3.12.0"
  }
 },
 "nbformat": 4,
 "nbformat_minor": 2
}
