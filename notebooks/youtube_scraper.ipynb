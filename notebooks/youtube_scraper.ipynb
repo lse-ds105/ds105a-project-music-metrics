{
 "cells": [
  {
   "cell_type": "markdown",
   "metadata": {},
   "source": [
    "Terminal:\n",
    "\n",
    "```\n",
    "pip install google-api-python-client\n",
    "\n",
    "pip install --upgrade google-api-python-client\n",
    "```"
   ]
  },
  {
   "cell_type": "code",
   "execution_count": 2,
   "metadata": {},
   "outputs": [],
   "source": [
    "from googleapiclient.discovery import build\n",
    "from IPython.display import JSON\n",
    "from pprint import pprint\n",
    "import pandas as pd\n",
    "import json"
   ]
  },
  {
   "cell_type": "code",
   "execution_count": 4,
   "metadata": {},
   "outputs": [],
   "source": [
    "credentials_file_path = \"../credentials.json\"\n",
    "\n",
    "# open the file and load the data into a variable\n",
    "with open(credentials_file_path, \"r\") as f:\n",
    "    credentials = json.load(f)\n"
   ]
  },
  {
   "cell_type": "code",
   "execution_count": 6,
   "metadata": {},
   "outputs": [],
   "source": [
    "youtube = build('youtube', 'v3', developerKey=credentials['youtube_api_key'])"
   ]
  },
  {
   "cell_type": "code",
   "execution_count": 8,
   "metadata": {},
   "outputs": [],
   "source": [
    "# Create the request object\n",
    "data = []\n",
    "\n",
    "search_response = youtube.search().list(\n",
    "    part=\"snippet\",\n",
    "    maxResults=100,\n",
    "    q=\"official music video\",\n",
    "    regionCode=\"US\",\n",
    "    type=\"video\",\n",
    "    videoCategoryId=\"10\",\n",
    "    fields=\"items(id/videoId,snippet(channelId,channelTitle,description,title)),nextPageToken,pageInfo,prevPageToken,regionCode\"\n",
    ")\n",
    "\n",
    "# Execute the request and get the response\n",
    "response = search_response.execute()\n",
    "\n",
    "# Extract video IDs from the response\n",
    "video_ids = [item['id']['videoId'] for item in response['items']]\n",
    "\n",
    "for item in response['items']:\n",
    "    video_id = item['id']['videoId']\n",
    "    title = item['snippet']['title']\n",
    "    channel_id = item['snippet']['channelId']\n",
    "    channel_title = item['snippet']['channelTitle']\n",
    "    description = item['snippet']['description']\n",
    "\n",
    "    data.append({\n",
    "        'video_id': video_id,\n",
    "        'title': title,\n",
    "        'channel_id': channel_id,\n",
    "        'channel_title': channel_title,\n",
    "        'description': description\n",
    "    })\n",
    "\n",
    "df = pd.DataFrame(data)"
   ]
  },
  {
   "cell_type": "code",
   "execution_count": 10,
   "metadata": {},
   "outputs": [
    {
     "data": {
      "text/html": [
       "<div>\n",
       "<style scoped>\n",
       "    .dataframe tbody tr th:only-of-type {\n",
       "        vertical-align: middle;\n",
       "    }\n",
       "\n",
       "    .dataframe tbody tr th {\n",
       "        vertical-align: top;\n",
       "    }\n",
       "\n",
       "    .dataframe thead th {\n",
       "        text-align: right;\n",
       "    }\n",
       "</style>\n",
       "<table border=\"1\" class=\"dataframe\">\n",
       "  <thead>\n",
       "    <tr style=\"text-align: right;\">\n",
       "      <th></th>\n",
       "      <th>video_id</th>\n",
       "      <th>title</th>\n",
       "      <th>channel_id</th>\n",
       "      <th>channel_title</th>\n",
       "      <th>description</th>\n",
       "    </tr>\n",
       "  </thead>\n",
       "  <tbody>\n",
       "    <tr>\n",
       "      <th>0</th>\n",
       "      <td>XoiOOiuH8iI</td>\n",
       "      <td>Tyla - Water (Official Music Video)</td>\n",
       "      <td>UCr2xjaS7CIx1OY7hYwrXb8A</td>\n",
       "      <td>TylaVEVO</td>\n",
       "      <td>Tyla - Water (Official Music Video) Listen To ...</td>\n",
       "    </tr>\n",
       "    <tr>\n",
       "      <th>1</th>\n",
       "      <td>suAR1PYFNYA</td>\n",
       "      <td>Dua Lipa - Houdini (Official Music Video)</td>\n",
       "      <td>UC-J-KZfRV8c13fOCkhXdLiQ</td>\n",
       "      <td>Dua Lipa</td>\n",
       "      <td>Limited edition Houdini CD and cassettes, this...</td>\n",
       "    </tr>\n",
       "    <tr>\n",
       "      <th>2</th>\n",
       "      <td>UqyT8IEBkvY</td>\n",
       "      <td>Bruno Mars - 24K Magic (Official Music Video)</td>\n",
       "      <td>UCoUM-UJ7rirJYP8CQ0EIaHA</td>\n",
       "      <td>Bruno Mars</td>\n",
       "      <td>The official music video for Bruno Mars' \"24K ...</td>\n",
       "    </tr>\n",
       "    <tr>\n",
       "      <th>3</th>\n",
       "      <td>SR6iYWJxHqs</td>\n",
       "      <td>Bruno Mars - Grenade (Official Music Video)</td>\n",
       "      <td>UCoUM-UJ7rirJYP8CQ0EIaHA</td>\n",
       "      <td>Bruno Mars</td>\n",
       "      <td>The official music video for \"Grenade\" by Brun...</td>\n",
       "    </tr>\n",
       "    <tr>\n",
       "      <th>4</th>\n",
       "      <td>XzOvgu3GPwY</td>\n",
       "      <td>Taylor Swift ft. Ice Spice - Karma (Official M...</td>\n",
       "      <td>UCANLZYMidaCbLQFWXBC95Jg</td>\n",
       "      <td>TaylorSwiftVEVO</td>\n",
       "      <td>Listen to “Karma (feat. Ice Spice)” by Taylor ...</td>\n",
       "    </tr>\n",
       "  </tbody>\n",
       "</table>\n",
       "</div>"
      ],
      "text/plain": [
       "      video_id                                              title  \\\n",
       "0  XoiOOiuH8iI                Tyla - Water (Official Music Video)   \n",
       "1  suAR1PYFNYA          Dua Lipa - Houdini (Official Music Video)   \n",
       "2  UqyT8IEBkvY      Bruno Mars - 24K Magic (Official Music Video)   \n",
       "3  SR6iYWJxHqs        Bruno Mars - Grenade (Official Music Video)   \n",
       "4  XzOvgu3GPwY  Taylor Swift ft. Ice Spice - Karma (Official M...   \n",
       "\n",
       "                 channel_id    channel_title  \\\n",
       "0  UCr2xjaS7CIx1OY7hYwrXb8A         TylaVEVO   \n",
       "1  UC-J-KZfRV8c13fOCkhXdLiQ         Dua Lipa   \n",
       "2  UCoUM-UJ7rirJYP8CQ0EIaHA       Bruno Mars   \n",
       "3  UCoUM-UJ7rirJYP8CQ0EIaHA       Bruno Mars   \n",
       "4  UCANLZYMidaCbLQFWXBC95Jg  TaylorSwiftVEVO   \n",
       "\n",
       "                                         description  \n",
       "0  Tyla - Water (Official Music Video) Listen To ...  \n",
       "1  Limited edition Houdini CD and cassettes, this...  \n",
       "2  The official music video for Bruno Mars' \"24K ...  \n",
       "3  The official music video for \"Grenade\" by Brun...  \n",
       "4  Listen to “Karma (feat. Ice Spice)” by Taylor ...  "
      ]
     },
     "execution_count": 10,
     "metadata": {},
     "output_type": "execute_result"
    }
   ],
   "source": [
    "df.head()"
   ]
  }
 ],
 "metadata": {
  "kernelspec": {
   "display_name": "base",
   "language": "python",
   "name": "python3"
  },
  "language_info": {
   "codemirror_mode": {
    "name": "ipython",
    "version": 3
   },
   "file_extension": ".py",
   "mimetype": "text/x-python",
   "name": "python",
   "nbconvert_exporter": "python",
   "pygments_lexer": "ipython3",
   "version": "3.12.0"
  }
 },
 "nbformat": 4,
 "nbformat_minor": 2
}
