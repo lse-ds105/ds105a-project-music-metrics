{
 "cells": [
  {
   "cell_type": "markdown",
   "metadata": {},
   "source": [
    "## Scraping video data using YouTube API"
   ]
  },
  {
   "cell_type": "markdown",
   "metadata": {},
   "source": [
    "#### Set-up\n",
    "\n",
    "Run the following instructions on your terminal:\n",
    "``` bash\n",
    "pip install google-api-python-client\n",
    "pip install --upgrade google-api-python-client\n",
    "```"
   ]
  },
  {
   "cell_type": "code",
   "execution_count": 1,
   "metadata": {},
   "outputs": [],
   "source": [
    "from googleapiclient.discovery import build\n",
    "from IPython.display import JSON\n",
    "from pprint import pprint\n",
    "import pandas as pd\n",
    "import json"
   ]
  },
  {
   "cell_type": "code",
   "execution_count": 2,
   "metadata": {},
   "outputs": [],
   "source": [
    "credentials_file_path = \"../credentials.json\"\n",
    "\n",
    "# open the file and load the data into a variable\n",
    "with open(credentials_file_path, \"r\") as f:\n",
    "    credentials = json.load(f)"
   ]
  },
  {
   "cell_type": "code",
   "execution_count": 3,
   "metadata": {},
   "outputs": [],
   "source": [
    "youtube = build('youtube', 'v3', developerKey=credentials['youtube_api_key'])"
   ]
  },
  {
   "cell_type": "code",
   "execution_count": 4,
   "metadata": {},
   "outputs": [],
   "source": [
    "# Create the request object\n",
    "data = []\n",
    "\n",
    "search_response = youtube.search().list(\n",
    "    part=\"snippet\",\n",
    "    maxResults=100,\n",
    "    q=\"official music video\",\n",
    "    regionCode=\"US\",\n",
    "    type=\"video\",\n",
    "    videoCategoryId=\"10\",\n",
    "    fields=\"items(id/videoId,snippet(channelId,channelTitle,description,title)),nextPageToken,pageInfo,prevPageToken,regionCode\"\n",
    ")\n",
    "\n",
    "# Execute the request and get the response\n",
    "response = search_response.execute()\n",
    "\n",
    "# Extract video IDs from the response\n",
    "video_ids = [item['id']['videoId'] for item in response['items']]\n",
    "\n",
    "for item in response['items']:\n",
    "    video_id = item['id']['videoId']\n",
    "    title = item['snippet']['title']\n",
    "    channel_id = item['snippet']['channelId']\n",
    "    channel_title = item['snippet']['channelTitle']\n",
    "    description = item['snippet']['description']\n",
    "\n",
    "    data.append({\n",
    "        'video_id': video_id,\n",
    "        'title': title,\n",
    "        'channel_id': channel_id,\n",
    "        'channel_title': channel_title,\n",
    "        'description': description\n",
    "    })\n",
    "\n",
    "df = pd.DataFrame(data)"
   ]
  },
  {
   "cell_type": "code",
   "execution_count": 5,
   "metadata": {},
   "outputs": [],
   "source": [
    "### getting video statistics (likes, views, comments etc.)\n",
    "\n",
    "video_stats = []\n",
    "video_requests = youtube.videos().list(\n",
    "    part = \"snippet, statistics, contentDetails\",\n",
    "    id = video_ids\n",
    ")\n",
    "\n",
    "video_responses = video_requests.execute()"
   ]
  },
  {
   "cell_type": "code",
   "execution_count": 10,
   "metadata": {},
   "outputs": [
    {
     "data": {
      "text/plain": [
       "dict"
      ]
     },
     "execution_count": 10,
     "metadata": {},
     "output_type": "execute_result"
    }
   ],
   "source": [
    "type(video_responses)"
   ]
  },
  {
   "cell_type": "code",
   "execution_count": 6,
   "metadata": {},
   "outputs": [
    {
     "data": {
      "text/plain": [
       "('949878', '65065267')"
      ]
     },
     "execution_count": 6,
     "metadata": {},
     "output_type": "execute_result"
    }
   ],
   "source": [
    "like_count = video_responses['items'][0]['statistics'][\"likeCount\"]\n",
    "view_count = video_responses['items'][0]['statistics'][\"viewCount\"]\n",
    "like_count, view_count"
   ]
  }
 ],
 "metadata": {
  "kernelspec": {
   "display_name": "base",
   "language": "python",
   "name": "python3"
  },
  "language_info": {
   "codemirror_mode": {
    "name": "ipython",
    "version": 3
   },
   "file_extension": ".py",
   "mimetype": "text/x-python",
   "name": "python",
   "nbconvert_exporter": "python",
   "pygments_lexer": "ipython3",
   "version": "3.12.0"
  }
 },
 "nbformat": 4,
 "nbformat_minor": 2
}
