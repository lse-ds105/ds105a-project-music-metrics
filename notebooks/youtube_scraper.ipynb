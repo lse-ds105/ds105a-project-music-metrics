{
 "cells": [
  {
   "cell_type": "markdown",
   "metadata": {},
   "source": [
    "# **YouTube Scraper (Draft)**\n"
   ]
  },
  {
   "cell_type": "markdown",
   "metadata": {},
   "source": [
    "### Using YouTube API to scrape data on the most popular music videos "
   ]
  },
  {
   "cell_type": "markdown",
   "metadata": {},
   "source": [
    "---"
   ]
  },
  {
   "cell_type": "markdown",
   "metadata": {},
   "source": [
    "### **Set-up ⚙️**"
   ]
  },
  {
   "cell_type": "markdown",
   "metadata": {},
   "source": [
    "Install the following modules in the terminal"
   ]
  },
  {
   "cell_type": "markdown",
   "metadata": {},
   "source": [
    "`pip install blahblahblah`"
   ]
  },
  {
   "cell_type": "markdown",
   "metadata": {},
   "source": [
    "Import necessary packages\n",
    "\n",
    "*⚠️ Note: Do not run this more than once. Restart the kernel before running this code chunk.*"
   ]
  },
  {
   "cell_type": "code",
   "execution_count": 1,
   "metadata": {},
   "outputs": [],
   "source": [
    "from googleapiclient.discovery import build\n",
    "from IPython.display import JSON\n",
    "import pandas as pd\n",
    "import json\n",
    "import os\n",
    "os.chdir(os.path.expanduser(\"../\"))             # change directory to main project directory\n",
    "\n",
    "from dees_package.youtube_functions import *    # imports custom functions for youtube scraping"
   ]
  },
  {
   "cell_type": "markdown",
   "metadata": {},
   "source": [
    "Check that we are in the correct current working directory\n",
    "\n",
    "*⚠️ Note: We should be in the main project directory*"
   ]
  },
  {
   "cell_type": "code",
   "execution_count": 2,
   "metadata": {},
   "outputs": [
    {
     "name": "stdout",
     "output_type": "stream",
     "text": [
      "Current working directory: c:\\Users\\soong\\Documents\\LSE_Acads\\AT_23.24\\DS105A\\final_project\\ds105a-project-dees-nuts\n"
     ]
    }
   ],
   "source": [
    "print(\"Current working directory:\", os.getcwd())"
   ]
  },
  {
   "cell_type": "markdown",
   "metadata": {},
   "source": [
    "Open JSON file containing credentials\n",
    "\n",
    "*⚠️ Note: Our credentials should be stored in a file titled `credentials.json` and stored in the root of the project folder*"
   ]
  },
  {
   "cell_type": "code",
   "execution_count": 3,
   "metadata": {},
   "outputs": [],
   "source": [
    "credentials_file_path = './credentials.json'\n",
    "\n",
    "with open(credentials_file_path, 'r') as f:\n",
    "    credentials = json.load(f)"
   ]
  },
  {
   "cell_type": "markdown",
   "metadata": {},
   "source": [
    "Create service object of the YouTube version 3 API\n",
    "\n",
    "*⚠️ Note: YouTube API key should be saved under the key `youtube_api_key` in the `credentials.json` file*"
   ]
  },
  {
   "cell_type": "code",
   "execution_count": 4,
   "metadata": {},
   "outputs": [],
   "source": [
    "# creating service object of the youtube version 3 API\n",
    "service_youtube = build('youtube', 'v3', developerKey=credentials['youtube_api_key'])"
   ]
  },
  {
   "cell_type": "markdown",
   "metadata": {},
   "source": [
    "---"
   ]
  },
  {
   "cell_type": "markdown",
   "metadata": {},
   "source": [
    "### **Data Scraping 🔍**"
   ]
  },
  {
   "cell_type": "markdown",
   "metadata": {},
   "source": [
    "Using the `search_youtube` function, scrape data on the most popular music videos in the US with the `.search().list()` method, and store the scraped data into a new dataframe\n",
    "\n",
    "To avoid needing to run this repeatedly, we save the raw search data as a CSV file at this juncture "
   ]
  },
  {
   "cell_type": "code",
   "execution_count": 5,
   "metadata": {},
   "outputs": [
    {
     "ename": "NameError",
     "evalue": "name 'search_youtube' is not defined",
     "output_type": "error",
     "traceback": [
      "\u001b[1;31m---------------------------------------------------------------------------\u001b[0m",
      "\u001b[1;31mNameError\u001b[0m                                 Traceback (most recent call last)",
      "Cell \u001b[1;32mIn[5], line 1\u001b[0m\n\u001b[1;32m----> 1\u001b[0m youtube_search_data, video_id \u001b[38;5;241m=\u001b[39m \u001b[43msearch_youtube\u001b[49m(service_youtube, \u001b[38;5;241m2000\u001b[39m, \u001b[38;5;124m\"\u001b[39m\u001b[38;5;124mofficial music video\u001b[39m\u001b[38;5;124m\"\u001b[39m, \u001b[38;5;124m\"\u001b[39m\u001b[38;5;124mvideo\u001b[39m\u001b[38;5;124m\"\u001b[39m, \u001b[38;5;124m\"\u001b[39m\u001b[38;5;124mUS\u001b[39m\u001b[38;5;124m\"\u001b[39m, \u001b[38;5;241m10\u001b[39m)\n\u001b[0;32m      3\u001b[0m yt_search_df \u001b[38;5;241m=\u001b[39m pd\u001b[38;5;241m.\u001b[39mDataFrame(youtube_search_data)\n\u001b[0;32m      5\u001b[0m \u001b[38;5;66;03m# save raw data to csv\u001b[39;00m\n",
      "\u001b[1;31mNameError\u001b[0m: name 'search_youtube' is not defined"
     ]
    }
   ],
   "source": [
    "youtube_search_data, video_id = search_youtube(service_youtube, 2000, \"official music video\", \"video\", \"US\", 10)\n",
    "\n",
    "yt_search_df = pd.DataFrame(youtube_search_data)\n",
    "\n",
    "# save raw data to csv\n",
    "yt_search_df.to_csv('./data/raw_youtube_search_data.csv')"
   ]
  },
  {
   "cell_type": "markdown",
   "metadata": {},
   "source": [
    "Using the `get_stats` function, scrape statistical data on each music video with the `.videos().list()` method and with the Video ID of each video as an input parameter, and store the scraped data into a new dataframe\n",
    "\n",
    "To avoid needing to run this repeatedly, we save the raw search data as a CSV file at this juncture\n",
    "\n",
    "Merge the new dataframe with the first dataframe\n",
    "\n",
    "*Extra details: The API only allows for searching for 50 Video IDs at a time, thus we solved this by creating different lists with 50 IDs each*"
   ]
  },
  {
   "cell_type": "code",
   "execution_count": null,
   "metadata": {},
   "outputs": [],
   "source": [
    "video_stats = get_stats(service_youtube, video_id)  \n",
    "video_stats_df = pd.DataFrame(video_stats)\n",
    "\n",
    "# save raw data to csv\n",
    "video_stats_df.to_csv('./data/raw_youtube_stats_data.csv')\n",
    "\n",
    "# merge the mv stats and search dataframes\n",
    "merged_df = pd.merge(yt_search_df, video_stats_df, left_on='video_id', right_on='video_id')"
   ]
  },
  {
   "cell_type": "markdown",
   "metadata": {},
   "source": [
    "Using the `get_comments_in_videos` function, scrape the comments for each music video with the `.commentThreads().list()` method, and store the scraped data into a new dataframe\n",
    "\n",
    "*Extra details: Comments are disabled for some videos*"
   ]
  },
  {
   "cell_type": "code",
   "execution_count": null,
   "metadata": {},
   "outputs": [],
   "source": [
    "comments_df = get_comments_in_videos(service_youtube, video_id) "
   ]
  },
  {
   "cell_type": "markdown",
   "metadata": {},
   "source": [
    "Do a final merge of dataframes and save it as a CSV file\n"
   ]
  },
  {
   "cell_type": "code",
   "execution_count": null,
   "metadata": {},
   "outputs": [],
   "source": [
    "final_youtube_df = pd.merge(merged_df, comments_df, left_on='video_id', right_on='video_id', sort = False)\n",
    "final_youtube_df.to_csv('./data/final_youtube_video_data.csv')"
   ]
  }
 ],
 "metadata": {
  "kernelspec": {
   "display_name": "base",
   "language": "python",
   "name": "python3"
  },
  "language_info": {
   "codemirror_mode": {
    "name": "ipython",
    "version": 3
   },
   "file_extension": ".py",
   "mimetype": "text/x-python",
   "name": "python",
   "nbconvert_exporter": "python",
   "pygments_lexer": "ipython3",
   "version": "3.12.0"
  }
 },
 "nbformat": 4,
 "nbformat_minor": 2
}
