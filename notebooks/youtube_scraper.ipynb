{
 "cells": [
  {
   "cell_type": "markdown",
   "metadata": {},
   "source": [
    "## Scraping video data using YouTube API"
   ]
  },
  {
   "cell_type": "markdown",
   "metadata": {},
   "source": [
    "#### Set-up\n",
    "\n",
    "Run the following instructions on your terminal:\n",
    "``` bash\n",
    "pip install google-api-python-client\n",
    "pip install --upgrade google-api-python-client\n",
    "```"
   ]
  },
  {
   "cell_type": "code",
   "execution_count": 13,
   "metadata": {},
   "outputs": [
    {
     "name": "stdout",
     "output_type": "stream",
     "text": [
      "Current working directory: /Users/hanbinfeng/Desktop\n"
     ]
    }
   ],
   "source": [
    "from googleapiclient.discovery import build\n",
    "from IPython.display import JSON\n",
    "from pprint import pprint\n",
    "import pandas as pd\n",
    "import json\n",
    "\n",
    "import os\n",
    "os.chdir(os.path.expanduser(\"../\"))\n",
    "\n",
    "from dees_package.youtube_functions import *\n",
    "\n",
    "print(\"Current working directory:\", os.getcwd())"
   ]
  },
  {
   "cell_type": "code",
   "execution_count": 2,
   "metadata": {},
   "outputs": [],
   "source": [
    "credentials_file_path = \"./credentials.json\"\n",
    "\n",
    "# open the file and load the data into a variable\n",
    "with open(credentials_file_path, \"r\") as f:\n",
    "    credentials = json.load(f)"
   ]
  },
  {
   "cell_type": "code",
   "execution_count": 3,
   "metadata": {},
   "outputs": [],
   "source": [
    "# creating service object of the youtube version 3 API\n",
    "service_youtube = build('youtube', 'v3', developerKey=credentials['youtube_api_key'])"
   ]
  },
  {
   "cell_type": "markdown",
   "metadata": {},
   "source": [
    "## Getting a list of music videos so that we have a list of videos to analyse\n"
   ]
  },
  {
   "cell_type": "markdown",
   "metadata": {},
   "source": [
    "Carry out test search using `youtube_search`"
   ]
  },
  {
   "cell_type": "code",
   "execution_count": 4,
   "metadata": {},
   "outputs": [],
   "source": [
    "youtube_search_data, video_id = youtube_search(service_youtube, 2000, \"official music video\", \"US\", \"video\", 10)\n",
    "\n",
    "with open('./data/yt_search_data.json', 'w') as json_file:\n",
    "    json.dump(youtube_search_data, json_file, indent=4)\n",
    "\n",
    "yt_search_df = pd.DataFrame(youtube_search_data)\n"
   ]
  },
  {
   "cell_type": "code",
   "execution_count": 5,
   "metadata": {},
   "outputs": [
    {
     "data": {
      "text/plain": [
       "640"
      ]
     },
     "execution_count": 5,
     "metadata": {},
     "output_type": "execute_result"
    }
   ],
   "source": [
    "len(video_id)"
   ]
  },
  {
   "cell_type": "code",
   "execution_count": 6,
   "metadata": {},
   "outputs": [],
   "source": [
    "# check = pd.read_csv('./data/merged.csv')\n",
    "\n",
    "# type(check['like_count'][0])"
   ]
  },
  {
   "cell_type": "code",
   "execution_count": 7,
   "metadata": {},
   "outputs": [],
   "source": [
    "yt_search_df.to_csv('./data/search.csv')"
   ]
  },
  {
   "cell_type": "markdown",
   "metadata": {},
   "source": [
    "## From the list of music videos, get statistics on each video\n"
   ]
  },
  {
   "cell_type": "code",
   "execution_count": 14,
   "metadata": {},
   "outputs": [
    {
     "name": "stdout",
     "output_type": "stream",
     "text": [
      "0 49\n",
      "50 99\n",
      "100 149\n",
      "150 199\n"
     ]
    }
   ],
   "source": [
    "video_stats = get_stats(service_youtube, video_id)  # there is a limit on the number of video ids, can only run 50 at a time. Solution: create different lists with 50 IDs each.\n",
    "\n",
    "#with open('./data/mv_stats_data.json', 'w') as json_file:\n",
    "#     json.dump(video_stats, json_file, indent=4)\n",
    "\n",
    "#videostats_df = pd.DataFrame(video_stats)"
   ]
  },
  {
   "cell_type": "code",
   "execution_count": 9,
   "metadata": {},
   "outputs": [
    {
     "data": {
      "text/plain": [
       "[{'video_id': 'gGdGFtwCNBE',\n",
       "  'like_count': '2831118',\n",
       "  'view_count': '550367128',\n",
       "  'comment_count': '97474',\n",
       "  'wikipedia_categories': ['https://en.wikipedia.org/wiki/Independent_music',\n",
       "   'https://en.wikipedia.org/wiki/Music',\n",
       "   'https://en.wikipedia.org/wiki/Pop_music',\n",
       "   'https://en.wikipedia.org/wiki/Rock_music']},\n",
       " {'video_id': 'niqrrmev4mA',\n",
       "  'like_count': '2585098',\n",
       "  'view_count': '546108251',\n",
       "  'comment_count': '254021',\n",
       "  'wikipedia_categories': ['https://en.wikipedia.org/wiki/Music',\n",
       "   'https://en.wikipedia.org/wiki/Pop_music']},\n",
       " {'video_id': 'znlFu_lemsU',\n",
       "  'like_count': '2735681',\n",
       "  'view_count': '543071357',\n",
       "  'comment_count': '39558',\n",
       "  'wikipedia_categories': ['https://en.wikipedia.org/wiki/Hip_hop_music',\n",
       "   'https://en.wikipedia.org/wiki/Music',\n",
       "   'https://en.wikipedia.org/wiki/Pop_music',\n",
       "   'https://en.wikipedia.org/wiki/Reggae',\n",
       "   'https://en.wikipedia.org/wiki/Rhythm_and_blues']},\n",
       " {'video_id': 'K0ibBPhiaG0',\n",
       "  'like_count': '3071475',\n",
       "  'view_count': '541055755',\n",
       "  'comment_count': '89911',\n",
       "  'wikipedia_categories': ['https://en.wikipedia.org/wiki/Music',\n",
       "   'https://en.wikipedia.org/wiki/Pop_music',\n",
       "   'https://en.wikipedia.org/wiki/Rock_music']},\n",
       " {'video_id': 'hn3wJ1_1Zsg',\n",
       "  'like_count': '3845787',\n",
       "  'view_count': '535292762',\n",
       "  'comment_count': '92647',\n",
       "  'wikipedia_categories': ['https://en.wikipedia.org/wiki/Independent_music',\n",
       "   'https://en.wikipedia.org/wiki/Music',\n",
       "   'https://en.wikipedia.org/wiki/Pop_music']},\n",
       " {'video_id': 'JVpTp8IHdEg',\n",
       "  'like_count': '4423243',\n",
       "  'view_count': '532779644',\n",
       "  'comment_count': '114722',\n",
       "  'wikipedia_categories': ['https://en.wikipedia.org/wiki/Electronic_music',\n",
       "   'https://en.wikipedia.org/wiki/Music',\n",
       "   'https://en.wikipedia.org/wiki/Pop_music']},\n",
       " {'video_id': 'r00ikilDxW4',\n",
       "  'like_count': '3190174',\n",
       "  'view_count': '527939008',\n",
       "  'comment_count': '129433',\n",
       "  'wikipedia_categories': ['https://en.wikipedia.org/wiki/Independent_music',\n",
       "   'https://en.wikipedia.org/wiki/Music',\n",
       "   'https://en.wikipedia.org/wiki/Pop_music',\n",
       "   'https://en.wikipedia.org/wiki/Rock_music']},\n",
       " {'video_id': 'S_E2EHVxNAE',\n",
       "  'like_count': '3068854',\n",
       "  'view_count': '524310394',\n",
       "  'comment_count': '79311',\n",
       "  'wikipedia_categories': ['https://en.wikipedia.org/wiki/Music',\n",
       "   'https://en.wikipedia.org/wiki/Pop_music',\n",
       "   'https://en.wikipedia.org/wiki/Rock_music']},\n",
       " {'video_id': 'hsm4poTWjMs',\n",
       "  'like_count': '9009055',\n",
       "  'view_count': '520820257',\n",
       "  'comment_count': '590173',\n",
       "  'wikipedia_categories': ['https://en.wikipedia.org/wiki/Hip_hop_music',\n",
       "   'https://en.wikipedia.org/wiki/Music']},\n",
       " {'video_id': 'psuRGfAaju4',\n",
       "  'like_count': '4740261',\n",
       "  'view_count': '518471007',\n",
       "  'comment_count': '380153',\n",
       "  'wikipedia_categories': ['https://en.wikipedia.org/wiki/Music',\n",
       "   'https://en.wikipedia.org/wiki/Pop_music']},\n",
       " {'video_id': '2Y6Nne8RvaA',\n",
       "  'like_count': '3276356',\n",
       "  'view_count': '514337233',\n",
       "  'comment_count': '91154',\n",
       "  'wikipedia_categories': ['https://en.wikipedia.org/wiki/Electronic_music',\n",
       "   'https://en.wikipedia.org/wiki/Music',\n",
       "   'https://en.wikipedia.org/wiki/Pop_music']},\n",
       " {'video_id': 'VuG7ge_8I2Y',\n",
       "  'like_count': '5812865',\n",
       "  'view_count': '513213478',\n",
       "  'comment_count': '80823',\n",
       "  'wikipedia_categories': ['https://en.wikipedia.org/wiki/Music',\n",
       "   'https://en.wikipedia.org/wiki/Music_of_Asia']},\n",
       " {'video_id': 'I7HahVwYpwo',\n",
       "  'like_count': '2288265',\n",
       "  'view_count': '508344367',\n",
       "  'comment_count': '75502',\n",
       "  'wikipedia_categories': ['https://en.wikipedia.org/wiki/Electronic_music',\n",
       "   'https://en.wikipedia.org/wiki/Hip_hop_music',\n",
       "   'https://en.wikipedia.org/wiki/Music',\n",
       "   'https://en.wikipedia.org/wiki/Pop_music']},\n",
       " {'video_id': '5XK4v2fgMPU',\n",
       "  'like_count': '4149266',\n",
       "  'view_count': '505788142',\n",
       "  'comment_count': '117976',\n",
       "  'wikipedia_categories': ['https://en.wikipedia.org/wiki/Hip_hop_music',\n",
       "   'https://en.wikipedia.org/wiki/Music']},\n",
       " {'video_id': 'eiDiKwbGfIY',\n",
       "  'like_count': '3396251',\n",
       "  'view_count': '504492623',\n",
       "  'comment_count': '94722',\n",
       "  'wikipedia_categories': ['https://en.wikipedia.org/wiki/Music',\n",
       "   'https://en.wikipedia.org/wiki/Pop_music']},\n",
       " {'video_id': 'XWJrPzAUzAs',\n",
       "  'like_count': '2721914',\n",
       "  'view_count': '503164976',\n",
       "  'comment_count': '49673',\n",
       "  'wikipedia_categories': ['https://en.wikipedia.org/wiki/Hip_hop_music',\n",
       "   'https://en.wikipedia.org/wiki/Music',\n",
       "   'https://en.wikipedia.org/wiki/Pop_music',\n",
       "   'https://en.wikipedia.org/wiki/Reggae',\n",
       "   'https://en.wikipedia.org/wiki/Rhythm_and_blues']},\n",
       " {'video_id': 'NdYWuo9OFAw',\n",
       "  'like_count': '2984695',\n",
       "  'view_count': '499894378',\n",
       "  'comment_count': '70101',\n",
       "  'wikipedia_categories': ['https://en.wikipedia.org/wiki/Independent_music',\n",
       "   'https://en.wikipedia.org/wiki/Music',\n",
       "   'https://en.wikipedia.org/wiki/Pop_music',\n",
       "   'https://en.wikipedia.org/wiki/Rock_music']},\n",
       " {'video_id': 'mzJj5-lubeM',\n",
       "  'like_count': '2121840',\n",
       "  'view_count': '497976327',\n",
       "  'comment_count': '38544',\n",
       "  'wikipedia_categories': ['https://en.wikipedia.org/wiki/Country_music',\n",
       "   'https://en.wikipedia.org/wiki/Music',\n",
       "   'https://en.wikipedia.org/wiki/Rock_music']},\n",
       " {'video_id': 'Q0oIoR9mLwc',\n",
       "  'like_count': '2224813',\n",
       "  'view_count': '480464932',\n",
       "  'comment_count': '57856',\n",
       "  'wikipedia_categories': ['https://en.wikipedia.org/wiki/Independent_music',\n",
       "   'https://en.wikipedia.org/wiki/Music',\n",
       "   'https://en.wikipedia.org/wiki/Pop_music',\n",
       "   'https://en.wikipedia.org/wiki/Rock_music']},\n",
       " {'video_id': '2cXDgFwE13g',\n",
       "  'like_count': '3685354',\n",
       "  'view_count': '479973292',\n",
       "  'comment_count': '318544',\n",
       "  'wikipedia_categories': ['https://en.wikipedia.org/wiki/Electronic_music',\n",
       "   'https://en.wikipedia.org/wiki/Music']},\n",
       " {'video_id': 'i7wveOu5hkQ',\n",
       "  'like_count': '2493363',\n",
       "  'view_count': '478241064',\n",
       "  'comment_count': '82416',\n",
       "  'wikipedia_categories': ['https://en.wikipedia.org/wiki/Electronic_music',\n",
       "   'https://en.wikipedia.org/wiki/Music',\n",
       "   'https://en.wikipedia.org/wiki/Pop_music']},\n",
       " {'video_id': 'JFm7YDVlqnI',\n",
       "  'like_count': '4204532',\n",
       "  'view_count': '477928283',\n",
       "  'comment_count': '143136',\n",
       "  'wikipedia_categories': ['https://en.wikipedia.org/wiki/Hip_hop_music',\n",
       "   'https://en.wikipedia.org/wiki/Music']},\n",
       " {'video_id': 'wagn8Wrmzuc',\n",
       "  'like_count': '2781713',\n",
       "  'view_count': '475362538',\n",
       "  'comment_count': '355010',\n",
       "  'wikipedia_categories': ['https://en.wikipedia.org/wiki/Music',\n",
       "   'https://en.wikipedia.org/wiki/Pop_music']},\n",
       " {'video_id': 'L_jWHffIx5E',\n",
       "  'like_count': '6016162',\n",
       "  'view_count': '475034048',\n",
       "  'comment_count': '339923',\n",
       "  'wikipedia_categories': ['https://en.wikipedia.org/wiki/Music',\n",
       "   'https://en.wikipedia.org/wiki/Pop_music',\n",
       "   'https://en.wikipedia.org/wiki/Rock_music']},\n",
       " {'video_id': 'LPTlvQ1Zet0',\n",
       "  'like_count': '3132626',\n",
       "  'view_count': '472190976',\n",
       "  'comment_count': '74834',\n",
       "  'wikipedia_categories': ['https://en.wikipedia.org/wiki/Hip_hop_music',\n",
       "   'https://en.wikipedia.org/wiki/Music']},\n",
       " {'video_id': 'viimfQi_pUw',\n",
       "  'like_count': '6043560',\n",
       "  'view_count': '465446465',\n",
       "  'comment_count': '168031',\n",
       "  'wikipedia_categories': ['https://en.wikipedia.org/wiki/Independent_music',\n",
       "   'https://en.wikipedia.org/wiki/Music',\n",
       "   'https://en.wikipedia.org/wiki/Pop_music']},\n",
       " {'video_id': 'phaJXp_zMYM',\n",
       "  'like_count': '3802263',\n",
       "  'view_count': '462410598',\n",
       "  'comment_count': '78798',\n",
       "  'wikipedia_categories': ['https://en.wikipedia.org/wiki/Hip_hop_music',\n",
       "   'https://en.wikipedia.org/wiki/Music']},\n",
       " {'video_id': 'EVBsypHzF3U',\n",
       "  'like_count': '2743075',\n",
       "  'view_count': '460347834',\n",
       "  'comment_count': '168361',\n",
       "  'wikipedia_categories': ['https://en.wikipedia.org/wiki/Music',\n",
       "   'https://en.wikipedia.org/wiki/Pop_music']},\n",
       " {'video_id': '2xWkATdMQms',\n",
       "  'like_count': '4966908',\n",
       "  'view_count': '458720896',\n",
       "  'comment_count': '139154',\n",
       "  'wikipedia_categories': ['https://en.wikipedia.org/wiki/Hip_hop_music',\n",
       "   'https://en.wikipedia.org/wiki/Music']},\n",
       " {'video_id': '0-EF60neguk',\n",
       "  'like_count': '2532680',\n",
       "  'view_count': '455730557',\n",
       "  'comment_count': '126773',\n",
       "  'wikipedia_categories': ['https://en.wikipedia.org/wiki/Music',\n",
       "   'https://en.wikipedia.org/wiki/Pop_music',\n",
       "   'https://en.wikipedia.org/wiki/Rock_music']},\n",
       " {'video_id': '-FyjEnoIgTM',\n",
       "  'like_count': '2817096',\n",
       "  'view_count': '449965075',\n",
       "  'comment_count': '98569',\n",
       "  'wikipedia_categories': ['https://en.wikipedia.org/wiki/Music',\n",
       "   'https://en.wikipedia.org/wiki/Pop_music',\n",
       "   'https://en.wikipedia.org/wiki/Rhythm_and_blues']},\n",
       " {'video_id': 'VjHMDlAPMUw',\n",
       "  'like_count': '2521391',\n",
       "  'view_count': '434249420',\n",
       "  'comment_count': '40425',\n",
       "  'wikipedia_categories': ['https://en.wikipedia.org/wiki/Electronic_music',\n",
       "   'https://en.wikipedia.org/wiki/Music',\n",
       "   'https://en.wikipedia.org/wiki/Pop_music']},\n",
       " {'video_id': 'LdH7aFjDzjI',\n",
       "  'like_count': '3797918',\n",
       "  'view_count': '431699214',\n",
       "  'comment_count': '98976',\n",
       "  'wikipedia_categories': ['https://en.wikipedia.org/wiki/Music',\n",
       "   'https://en.wikipedia.org/wiki/Pop_music']},\n",
       " {'video_id': 'LYU-8IFcDPw',\n",
       "  'like_count': '2323630',\n",
       "  'view_count': '429912406',\n",
       "  'comment_count': '68455',\n",
       "  'wikipedia_categories': ['https://en.wikipedia.org/wiki/Music',\n",
       "   'https://en.wikipedia.org/wiki/Rock_music']},\n",
       " {'video_id': 'rSOzN0eihsE',\n",
       "  'like_count': '1919982',\n",
       "  'view_count': '428006392',\n",
       "  'comment_count': '64478',\n",
       "  'wikipedia_categories': ['https://en.wikipedia.org/wiki/Hip_hop_music',\n",
       "   'https://en.wikipedia.org/wiki/Music',\n",
       "   'https://en.wikipedia.org/wiki/Pop_music',\n",
       "   'https://en.wikipedia.org/wiki/Rhythm_and_blues',\n",
       "   'https://en.wikipedia.org/wiki/Soul_music']},\n",
       " {'video_id': 'VWoIpDVkOH0',\n",
       "  'like_count': '4809243',\n",
       "  'view_count': '427728940',\n",
       "  'comment_count': '165178',\n",
       "  'wikipedia_categories': ['https://en.wikipedia.org/wiki/Hip_hop_music',\n",
       "   'https://en.wikipedia.org/wiki/Music']},\n",
       " {'video_id': 'taSubkjZUA4',\n",
       "  'like_count': '2704817',\n",
       "  'view_count': '425043991',\n",
       "  'comment_count': '41547',\n",
       "  'wikipedia_categories': ['https://en.wikipedia.org/wiki/Electronic_music',\n",
       "   'https://en.wikipedia.org/wiki/Music',\n",
       "   'https://en.wikipedia.org/wiki/Pop_music']},\n",
       " {'video_id': 'LAYgZEMMWxo',\n",
       "  'like_count': '4204593',\n",
       "  'view_count': '422006235',\n",
       "  'comment_count': '61269',\n",
       "  'wikipedia_categories': ['https://en.wikipedia.org/wiki/Music',\n",
       "   'https://en.wikipedia.org/wiki/Pop_music',\n",
       "   'https://en.wikipedia.org/wiki/Rhythm_and_blues',\n",
       "   'https://en.wikipedia.org/wiki/Soul_music']},\n",
       " {'video_id': 'CJOZc02VwJM',\n",
       "  'like_count': '3414446',\n",
       "  'view_count': '419746451',\n",
       "  'comment_count': '79560',\n",
       "  'wikipedia_categories': ['https://en.wikipedia.org/wiki/Hip_hop_music',\n",
       "   'https://en.wikipedia.org/wiki/Music']},\n",
       " {'video_id': 'ZRtdQ81jPUQ',\n",
       "  'like_count': '4023260',\n",
       "  'view_count': '419191323',\n",
       "  'comment_count': '148004',\n",
       "  'wikipedia_categories': ['https://en.wikipedia.org/wiki/Electronic_music',\n",
       "   'https://en.wikipedia.org/wiki/Music',\n",
       "   'https://en.wikipedia.org/wiki/Music_of_Asia']},\n",
       " {'video_id': 'hvKyBcCDOB4',\n",
       "  'like_count': '1574726',\n",
       "  'view_count': '417292446',\n",
       "  'comment_count': '60918',\n",
       "  'wikipedia_categories': ['https://en.wikipedia.org/wiki/Country_music',\n",
       "   'https://en.wikipedia.org/wiki/Music',\n",
       "   'https://en.wikipedia.org/wiki/Pop_music']},\n",
       " {'video_id': 'AoAm4om0wTs',\n",
       "  'like_count': '5791618',\n",
       "  'view_count': '405651366',\n",
       "  'comment_count': '454295',\n",
       "  'wikipedia_categories': ['https://en.wikipedia.org/wiki/Electronic_music',\n",
       "   'https://en.wikipedia.org/wiki/Music',\n",
       "   'https://en.wikipedia.org/wiki/Pop_music']},\n",
       " {'video_id': 'RQUuqbzQVsY',\n",
       "  'like_count': '2469398',\n",
       "  'view_count': '403224497',\n",
       "  'comment_count': '46821',\n",
       "  'wikipedia_categories': ['https://en.wikipedia.org/wiki/Music',\n",
       "   'https://en.wikipedia.org/wiki/Pop_music']},\n",
       " {'video_id': 'RQ9_TKayu9s',\n",
       "  'like_count': '2452531',\n",
       "  'view_count': '400054181',\n",
       "  'comment_count': '93020',\n",
       "  'wikipedia_categories': ['https://en.wikipedia.org/wiki/Hip_hop_music',\n",
       "   'https://en.wikipedia.org/wiki/Music',\n",
       "   'https://en.wikipedia.org/wiki/Rock_music']},\n",
       " {'video_id': '_XBVWlI8TsQ',\n",
       "  'like_count': '5666694',\n",
       "  'view_count': '398725863',\n",
       "  'comment_count': '121006',\n",
       "  'wikipedia_categories': ['https://en.wikipedia.org/wiki/Music',\n",
       "   'https://en.wikipedia.org/wiki/Music_of_Asia']},\n",
       " {'video_id': 'dvfZ95ueOcQ',\n",
       "  'like_count': '1982122',\n",
       "  'view_count': '390604982',\n",
       "  'comment_count': '53877',\n",
       "  'wikipedia_categories': ['https://en.wikipedia.org/wiki/Music',\n",
       "   'https://en.wikipedia.org/wiki/Music_of_Latin_America',\n",
       "   'https://en.wikipedia.org/wiki/Pop_music']},\n",
       " {'video_id': 'uEJuoEs1UxY',\n",
       "  'like_count': '3251820',\n",
       "  'view_count': '385488744',\n",
       "  'comment_count': '86096',\n",
       "  'wikipedia_categories': ['https://en.wikipedia.org/wiki/Music',\n",
       "   'https://en.wikipedia.org/wiki/Pop_music']},\n",
       " {'video_id': 'dxytyRy-O1k',\n",
       "  'like_count': '2687444',\n",
       "  'view_count': '382492379',\n",
       "  'comment_count': '116652',\n",
       "  'wikipedia_categories': ['https://en.wikipedia.org/wiki/Music',\n",
       "   'https://en.wikipedia.org/wiki/Pop_music',\n",
       "   'https://en.wikipedia.org/wiki/Rock_music']},\n",
       " {'video_id': 'jH1RNk8954Q',\n",
       "  'like_count': '3738127',\n",
       "  'view_count': '382342473',\n",
       "  'comment_count': '87438',\n",
       "  'wikipedia_categories': ['https://en.wikipedia.org/wiki/Music',\n",
       "   'https://en.wikipedia.org/wiki/Pop_music']}]"
      ]
     },
     "execution_count": 9,
     "metadata": {},
     "output_type": "execute_result"
    }
   ],
   "source": [
    "video_stats"
   ]
  },
  {
   "cell_type": "code",
   "execution_count": null,
   "metadata": {},
   "outputs": [],
   "source": []
  },
  {
   "cell_type": "code",
   "execution_count": 10,
   "metadata": {},
   "outputs": [
    {
     "ename": "NameError",
     "evalue": "name 'videostats_df' is not defined",
     "output_type": "error",
     "traceback": [
      "\u001b[0;31m---------------------------------------------------------------------------\u001b[0m",
      "\u001b[0;31mNameError\u001b[0m                                 Traceback (most recent call last)",
      "Cell \u001b[0;32mIn[10], line 2\u001b[0m\n\u001b[1;32m      1\u001b[0m \u001b[38;5;66;03m# merge the mv stats and search dataframes\u001b[39;00m\n\u001b[0;32m----> 2\u001b[0m searchandstats_merged_df \u001b[38;5;241m=\u001b[39m pd\u001b[38;5;241m.\u001b[39mmerge(yt_search_df, videostats_df, left_on\u001b[38;5;241m=\u001b[39m\u001b[38;5;124m'\u001b[39m\u001b[38;5;124mvideo_id\u001b[39m\u001b[38;5;124m'\u001b[39m, right_on\u001b[38;5;241m=\u001b[39m\u001b[38;5;124m'\u001b[39m\u001b[38;5;124mvideo_id\u001b[39m\u001b[38;5;124m'\u001b[39m)\n\u001b[1;32m      3\u001b[0m searchandstats_merged_df\u001b[38;5;241m.\u001b[39mto_json(\u001b[38;5;124m'\u001b[39m\u001b[38;5;124m./data/merged.json\u001b[39m\u001b[38;5;124m'\u001b[39m)\n\u001b[1;32m      5\u001b[0m searchandstats_merged_df\u001b[38;5;241m.\u001b[39mto_csv(\u001b[38;5;124m'\u001b[39m\u001b[38;5;124m./data/merged.csv\u001b[39m\u001b[38;5;124m'\u001b[39m)\n",
      "\u001b[0;31mNameError\u001b[0m: name 'videostats_df' is not defined"
     ]
    }
   ],
   "source": [
    "# merge the mv stats and search dataframes\n",
    "searchandstats_merged_df = pd.merge(yt_search_df, videostats_df, left_on='video_id', right_on='video_id')\n",
    "searchandstats_merged_df.to_json('./data/merged.json')\n",
    "\n",
    "searchandstats_merged_df.to_csv('./data/merged.csv')"
   ]
  },
  {
   "cell_type": "code",
   "execution_count": null,
   "metadata": {},
   "outputs": [],
   "source": [
    "comments_df = get_comments_in_videos(service_youtube, video_id)"
   ]
  },
  {
   "cell_type": "code",
   "execution_count": null,
   "metadata": {},
   "outputs": [],
   "source": [
    "comments_df.head()"
   ]
  },
  {
   "cell_type": "code",
   "execution_count": null,
   "metadata": {},
   "outputs": [],
   "source": [
    "deets_df = get_video_details(service_youtube, video_id)"
   ]
  },
  {
   "cell_type": "code",
   "execution_count": null,
   "metadata": {},
   "outputs": [],
   "source": [
    "deets_df.head()"
   ]
  }
 ],
 "metadata": {
  "kernelspec": {
   "display_name": "base",
   "language": "python",
   "name": "python3"
  },
  "language_info": {
   "codemirror_mode": {
    "name": "ipython",
    "version": 3
   },
   "file_extension": ".py",
   "mimetype": "text/x-python",
   "name": "python",
   "nbconvert_exporter": "python",
   "pygments_lexer": "ipython3",
   "version": "3.11.5"
  }
 },
 "nbformat": 4,
 "nbformat_minor": 2
}
