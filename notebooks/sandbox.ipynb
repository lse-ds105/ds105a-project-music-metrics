{
 "cells": [
  {
   "cell_type": "code",
   "execution_count": 5,
   "metadata": {},
   "outputs": [],
   "source": [
    "import json\n",
    "import pandas as pd\n",
    "from tqdm import tqdm\n",
    "import requests"
   ]
  },
  {
   "cell_type": "code",
   "execution_count": 15,
   "metadata": {},
   "outputs": [
    {
     "data": {
      "text/html": [
       "<div>\n",
       "<style scoped>\n",
       "    .dataframe tbody tr th:only-of-type {\n",
       "        vertical-align: middle;\n",
       "    }\n",
       "\n",
       "    .dataframe tbody tr th {\n",
       "        vertical-align: top;\n",
       "    }\n",
       "\n",
       "    .dataframe thead th {\n",
       "        text-align: right;\n",
       "    }\n",
       "</style>\n",
       "<table border=\"1\" class=\"dataframe\">\n",
       "  <thead>\n",
       "    <tr style=\"text-align: right;\">\n",
       "      <th></th>\n",
       "      <th>video_title</th>\n",
       "    </tr>\n",
       "  </thead>\n",
       "  <tbody>\n",
       "    <tr>\n",
       "      <th>0</th>\n",
       "      <td>sugar</td>\n",
       "    </tr>\n",
       "    <tr>\n",
       "      <th>1</th>\n",
       "      <td>cupid</td>\n",
       "    </tr>\n",
       "    <tr>\n",
       "      <th>2</th>\n",
       "      <td>despacito</td>\n",
       "    </tr>\n",
       "  </tbody>\n",
       "</table>\n",
       "</div>"
      ],
      "text/plain": [
       "  video_title\n",
       "0       sugar\n",
       "1       cupid\n",
       "2   despacito"
      ]
     },
     "execution_count": 15,
     "metadata": {},
     "output_type": "execute_result"
    }
   ],
   "source": [
    "df = pd.DataFrame({'video_title': ['sugar', 'cupid', 'despacito']})\n",
    "df"
   ]
  },
  {
   "cell_type": "code",
   "execution_count": 16,
   "metadata": {},
   "outputs": [
    {
     "name": "stdout",
     "output_type": "stream",
     "text": [
      "{'Title': '', 'Artist': '', 'URL': ''}\n",
      "{'Title': '', 'Artist': '', 'URL': ''}\n",
      "{'Title': '', 'Artist': '', 'URL': ''}\n"
     ]
    }
   ],
   "source": [
    "import requests\n",
    "import pandas as pd\n",
    "\n",
    "def search_genius1(query, access_token=''):\n",
    "    '''\n",
    "    Returns a dictionary of song title, artist and URL\n",
    "\n",
    "        Parameters:\n",
    "            query (str): The video title scraped from YouTube\n",
    "            access_token (str): The Genius API access token\n",
    "\n",
    "        Returns:\n",
    "            data_as_dict (dict): A dictionary containing song title, artist, and URL\n",
    "    '''\n",
    "\n",
    "    base_url = 'https://api.genius.com'\n",
    "    search_endpoint = '/search'\n",
    "\n",
    "    # prepare headers with authorization\n",
    "    headers = {'Authorization': f'Bearer {access_token}'}\n",
    "\n",
    "    # prepare the query parameter\n",
    "    params = {'q': query}\n",
    "\n",
    "    # make a request to the Genius API\n",
    "    response = requests.get(base_url + search_endpoint, headers=headers, params=params)\n",
    "    \n",
    "    # check if the response is successful (status code 200)\n",
    "    if response.status_code == 200:\n",
    "        # parse the JSON response\n",
    "        data = response.json()\n",
    "\n",
    "        # find the first result with a URL ending in 'lyrics'\n",
    "        for hit in data['response']['hits']:\n",
    "            result = hit['result']\n",
    "            title = result['title']\n",
    "            artist = result['primary_artist']['name']\n",
    "            url = result['url']\n",
    "\n",
    "            # append the information to the list\n",
    "            data_as_dict = {'Title': title, 'Artist': artist, 'URL': url}\n",
    "            # stop the loop after finding the first matching result\n",
    "            return data_as_dict\n",
    "    \n",
    "    # return empty strings if no information is found or if the response status is not 200\n",
    "    return {'Title': '', 'Artist': '', 'URL': ''}\n",
    "\n",
    "# Example usage with the DataFrame\n",
    "for video_title in df['video_title']:\n",
    "    result = search_genius1(video_title)\n",
    "    print(result)\n"
   ]
  },
  {
   "cell_type": "code",
   "execution_count": 17,
   "metadata": {},
   "outputs": [
    {
     "data": {
      "text/plain": [
       "{'Title': '', 'Artist': '', 'URL': ''}"
      ]
     },
     "execution_count": 17,
     "metadata": {},
     "output_type": "execute_result"
    }
   ],
   "source": [
    "search_genius1('cupid')"
   ]
  },
  {
   "cell_type": "code",
   "execution_count": null,
   "metadata": {},
   "outputs": [],
   "source": []
  }
 ],
 "metadata": {
  "kernelspec": {
   "display_name": "Python 3",
   "language": "python",
   "name": "python3"
  },
  "language_info": {
   "codemirror_mode": {
    "name": "ipython",
    "version": 3
   },
   "file_extension": ".py",
   "mimetype": "text/x-python",
   "name": "python",
   "nbconvert_exporter": "python",
   "pygments_lexer": "ipython3",
   "version": "3.12.0"
  }
 },
 "nbformat": 4,
 "nbformat_minor": 2
}
