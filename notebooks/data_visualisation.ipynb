{
 "cells": [
  {
   "cell_type": "code",
   "execution_count": 23,
   "metadata": {},
   "outputs": [],
   "source": [
    "import pandas as pd\n",
    "import numpy"
   ]
  },
  {
   "cell_type": "markdown",
   "metadata": {},
   "source": [
    "## Open CSV file"
   ]
  },
  {
   "cell_type": "code",
   "execution_count": 10,
   "metadata": {},
   "outputs": [],
   "source": [
    "lyrics_df = pd.read_csv('../data/10_songs_with_lyrics.csv')"
   ]
  },
  {
   "cell_type": "code",
   "execution_count": 14,
   "metadata": {},
   "outputs": [],
   "source": [
    "test_lyric = lyrics_df['Genius_lyrics'][0]"
   ]
  },
  {
   "cell_type": "markdown",
   "metadata": {},
   "source": [
    "## Code to get word count"
   ]
  },
  {
   "cell_type": "code",
   "execution_count": 3,
   "metadata": {},
   "outputs": [],
   "source": [
    "def get_word_counts(words):\n",
    "    word_list = words.split()\n",
    "    word_counts = {}\n",
    "    for word in word_list:\n",
    "        if word in word_counts.keys():\n",
    "            word_counts[word] +=1\n",
    "        else:\n",
    "            word_counts[word] = 1\n",
    "    return word_counts"
   ]
  },
  {
   "cell_type": "markdown",
   "metadata": {},
   "source": [
    "## Code for wordcloud"
   ]
  },
  {
   "cell_type": "markdown",
   "metadata": {},
   "source": [
    "```\n",
    "pip install wordcloud\n",
    "```"
   ]
  },
  {
   "cell_type": "code",
   "execution_count": null,
   "metadata": {},
   "outputs": [],
   "source": [
    "from wordcloud import WordCloud\n",
    "import matplotlib.pyplot as plt"
   ]
  },
  {
   "cell_type": "code",
   "execution_count": null,
   "metadata": {},
   "outputs": [],
   "source": [
    "# Create and generate a word cloud image:\n",
    "wordcloud = WordCloud().generate(test_lyric)\n",
    "\n",
    "# Display the generated image:\n",
    "plt.imshow(wordcloud, interpolation='bilinear')\n",
    "plt.axis(\"off\")\n",
    "plt.show()"
   ]
  },
  {
   "cell_type": "markdown",
   "metadata": {},
   "source": [
    "## Code for sentiment analysis"
   ]
  },
  {
   "cell_type": "markdown",
   "metadata": {},
   "source": [
    "```\n",
    "pip install nltk\n",
    "python -m nltk.downloader vader_lexicon\n",
    "```"
   ]
  },
  {
   "cell_type": "code",
   "execution_count": 19,
   "metadata": {},
   "outputs": [],
   "source": [
    "import nltk\n",
    "from nltk.sentiment.vader import SentimentIntensityAnalyzer"
   ]
  },
  {
   "cell_type": "code",
   "execution_count": 20,
   "metadata": {},
   "outputs": [
    {
     "data": {
      "text/plain": [
       "{'neg': 0.095, 'neu': 0.836, 'pos': 0.069, 'compound': -0.4434}"
      ]
     },
     "execution_count": 20,
     "metadata": {},
     "output_type": "execute_result"
    }
   ],
   "source": [
    "df = pd.DataFrame(columns=('artist', 'pos', 'neu', 'neg'))\n",
    "sid = SentimentIntensityAnalyzer()\n",
    "scores = sid.polarity_scores(test_lyric)\n",
    "scores"
   ]
  },
  {
   "cell_type": "code",
   "execution_count": 25,
   "metadata": {},
   "outputs": [
    {
     "ename": "AttributeError",
     "evalue": "'float' object has no attribute 'encode'",
     "output_type": "error",
     "traceback": [
      "\u001b[1;31m---------------------------------------------------------------------------\u001b[0m",
      "\u001b[1;31mAttributeError\u001b[0m                            Traceback (most recent call last)",
      "\u001b[1;32mc:\\Users\\soong\\Documents\\LSE Academics\\DS105A\\Group Project\\ds105a-project-dees-nuts\\notebooks\\data_visualisation.ipynb Cell 16\u001b[0m line \u001b[0;36m8\n\u001b[0;32m      <a href='vscode-notebook-cell:/c%3A/Users/soong/Documents/LSE%20Academics/DS105A/Group%20Project/ds105a-project-dees-nuts/notebooks/data_visualisation.ipynb#X43sZmlsZQ%3D%3D?line=4'>5</a>\u001b[0m neutral_count \u001b[39m=\u001b[39m \u001b[39m0\u001b[39m\n\u001b[0;32m      <a href='vscode-notebook-cell:/c%3A/Users/soong/Documents/LSE%20Academics/DS105A/Group%20Project/ds105a-project-dees-nuts/notebooks/data_visualisation.ipynb#X43sZmlsZQ%3D%3D?line=6'>7</a>\u001b[0m \u001b[39mfor\u001b[39;00m lyric \u001b[39min\u001b[39;00m lyrics_df[\u001b[39m'\u001b[39m\u001b[39mGenius_lyrics\u001b[39m\u001b[39m'\u001b[39m]:\n\u001b[1;32m----> <a href='vscode-notebook-cell:/c%3A/Users/soong/Documents/LSE%20Academics/DS105A/Group%20Project/ds105a-project-dees-nuts/notebooks/data_visualisation.ipynb#X43sZmlsZQ%3D%3D?line=7'>8</a>\u001b[0m     comp \u001b[39m=\u001b[39m sid\u001b[39m.\u001b[39;49mpolarity_scores(lyric)\n\u001b[0;32m      <a href='vscode-notebook-cell:/c%3A/Users/soong/Documents/LSE%20Academics/DS105A/Group%20Project/ds105a-project-dees-nuts/notebooks/data_visualisation.ipynb#X43sZmlsZQ%3D%3D?line=8'>9</a>\u001b[0m     comp \u001b[39m=\u001b[39m comp[\u001b[39m'\u001b[39m\u001b[39mcompound\u001b[39m\u001b[39m'\u001b[39m]\n\u001b[0;32m     <a href='vscode-notebook-cell:/c%3A/Users/soong/Documents/LSE%20Academics/DS105A/Group%20Project/ds105a-project-dees-nuts/notebooks/data_visualisation.ipynb#X43sZmlsZQ%3D%3D?line=9'>10</a>\u001b[0m     \u001b[39mif\u001b[39;00m comp \u001b[39m>\u001b[39m\u001b[39m=\u001b[39m \u001b[39m0.5\u001b[39m:\n",
      "File \u001b[1;32mc:\\Users\\soong\\AppData\\Local\\Programs\\Python\\Python312\\Lib\\site-packages\\nltk\\sentiment\\vader.py:366\u001b[0m, in \u001b[0;36mSentimentIntensityAnalyzer.polarity_scores\u001b[1;34m(self, text)\u001b[0m\n\u001b[0;32m    355\u001b[0m \u001b[39m\u001b[39m\u001b[39m\"\"\"\u001b[39;00m\n\u001b[0;32m    356\u001b[0m \u001b[39mReturn a float for sentiment strength based on the input text.\u001b[39;00m\n\u001b[0;32m    357\u001b[0m \u001b[39mPositive values are positive valence, negative value are negative\u001b[39;00m\n\u001b[1;32m   (...)\u001b[0m\n\u001b[0;32m    363\u001b[0m \u001b[39m    matched as if it was a normal word in the sentence.\u001b[39;00m\n\u001b[0;32m    364\u001b[0m \u001b[39m\"\"\"\u001b[39;00m\n\u001b[0;32m    365\u001b[0m \u001b[39m# text, words_and_emoticons, is_cap_diff = self.preprocess(text)\u001b[39;00m\n\u001b[1;32m--> 366\u001b[0m sentitext \u001b[39m=\u001b[39m SentiText(\n\u001b[0;32m    367\u001b[0m     text, \u001b[39mself\u001b[39;49m\u001b[39m.\u001b[39;49mconstants\u001b[39m.\u001b[39;49mPUNC_LIST, \u001b[39mself\u001b[39;49m\u001b[39m.\u001b[39;49mconstants\u001b[39m.\u001b[39;49mREGEX_REMOVE_PUNCTUATION\n\u001b[0;32m    368\u001b[0m )\n\u001b[0;32m    369\u001b[0m sentiments \u001b[39m=\u001b[39m []\n\u001b[0;32m    370\u001b[0m words_and_emoticons \u001b[39m=\u001b[39m sentitext\u001b[39m.\u001b[39mwords_and_emoticons\n",
      "File \u001b[1;32mc:\\Users\\soong\\AppData\\Local\\Programs\\Python\\Python312\\Lib\\site-packages\\nltk\\sentiment\\vader.py:270\u001b[0m, in \u001b[0;36mSentiText.__init__\u001b[1;34m(self, text, punc_list, regex_remove_punctuation)\u001b[0m\n\u001b[0;32m    268\u001b[0m \u001b[39mdef\u001b[39;00m \u001b[39m__init__\u001b[39m(\u001b[39mself\u001b[39m, text, punc_list, regex_remove_punctuation):\n\u001b[0;32m    269\u001b[0m     \u001b[39mif\u001b[39;00m \u001b[39mnot\u001b[39;00m \u001b[39misinstance\u001b[39m(text, \u001b[39mstr\u001b[39m):\n\u001b[1;32m--> 270\u001b[0m         text \u001b[39m=\u001b[39m \u001b[39mstr\u001b[39m(text\u001b[39m.\u001b[39;49mencode(\u001b[39m\"\u001b[39m\u001b[39mutf-8\u001b[39m\u001b[39m\"\u001b[39m))\n\u001b[0;32m    271\u001b[0m     \u001b[39mself\u001b[39m\u001b[39m.\u001b[39mtext \u001b[39m=\u001b[39m text\n\u001b[0;32m    272\u001b[0m     \u001b[39mself\u001b[39m\u001b[39m.\u001b[39mPUNC_LIST \u001b[39m=\u001b[39m punc_list\n",
      "\u001b[1;31mAttributeError\u001b[0m: 'float' object has no attribute 'encode'"
     ]
    }
   ],
   "source": [
    "sid = SentimentIntensityAnalyzer()\n",
    "\n",
    "positive_count = 0\n",
    "negative_count = 0\n",
    "neutral_count = 0\n",
    "\n",
    "for lyric in lyrics_df['Genius_lyrics']:\n",
    "    comp = sid.polarity_scores(lyric)\n",
    "    comp = comp['compound']\n",
    "    if comp >= 0.5:\n",
    "        positive_count += 1\n",
    "    elif comp > -0.5 and comp < 0.5:\n",
    "        neutral_count += 1\n",
    "    else:\n",
    "        negative_count += 1\n",
    "\n",
    "total = negative_count + neutral_count + positive_count\n",
    "percent_negative = (negative_count/float(total))*100\n",
    "percent_neutral = (neutral_count/float(total))*100\n",
    "percent_positive = (positive_count/float(total))*100\n",
    "\n",
    "sentiment_df = pd.DataFrame({'Lyrics': [percent_positive, percent_neutral, percent_negative]}, index=['Positive', 'Neutral', 'Negative'])\n",
    "\n",
    "sentiment_df\n",
    "\n",
    "# Based on my research plotnine has no pie chart :()              \n",
    "df.plot.pie(subplots=True)\n",
    "plt.show()"
   ]
  },
  {
   "cell_type": "code",
   "execution_count": 26,
   "metadata": {},
   "outputs": [
    {
     "ename": "NameError",
     "evalue": "name 'songs_test' is not defined",
     "output_type": "error",
     "traceback": [
      "\u001b[1;31m---------------------------------------------------------------------------\u001b[0m",
      "\u001b[1;31mNameError\u001b[0m                                 Traceback (most recent call last)",
      "\u001b[1;32mc:\\Users\\soong\\Documents\\LSE Academics\\DS105A\\Group Project\\ds105a-project-dees-nuts\\notebooks\\data_visualisation.ipynb Cell 17\u001b[0m line \u001b[0;36m1\n\u001b[1;32m----> <a href='vscode-notebook-cell:/c%3A/Users/soong/Documents/LSE%20Academics/DS105A/Group%20Project/ds105a-project-dees-nuts/notebooks/data_visualisation.ipynb#X44sZmlsZQ%3D%3D?line=0'>1</a>\u001b[0m songs_test[\u001b[39m'\u001b[39m\u001b[39mGenius_URL\u001b[39m\u001b[39m'\u001b[39m] \u001b[39m=\u001b[39m songs_test\u001b[39m.\u001b[39mapply(\u001b[39mlambda\u001b[39;00m row: generate_song_url(row[\u001b[39m'\u001b[39m\u001b[39mArtist\u001b[39m\u001b[39m'\u001b[39m], row[\u001b[39m'\u001b[39m\u001b[39mSong\u001b[39m\u001b[39m'\u001b[39m]), axis\u001b[39m=\u001b[39m\u001b[39m1\u001b[39m)\n",
      "\u001b[1;31mNameError\u001b[0m: name 'songs_test' is not defined"
     ]
    }
   ],
   "source": [
    "songs_test['Genius_URL'] = songs_test.apply(lambda row: generate_song_url(row['Artist'], row['Song']), axis=1)"
   ]
  },
  {
   "cell_type": "markdown",
   "metadata": {},
   "source": [
    "## Lexical Richness"
   ]
  },
  {
   "cell_type": "code",
   "execution_count": 27,
   "metadata": {},
   "outputs": [
    {
     "ename": "NameError",
     "evalue": "name 'songs_test' is not defined",
     "output_type": "error",
     "traceback": [
      "\u001b[1;31m---------------------------------------------------------------------------\u001b[0m",
      "\u001b[1;31mNameError\u001b[0m                                 Traceback (most recent call last)",
      "\u001b[1;32mc:\\Users\\soong\\Documents\\LSE Academics\\DS105A\\Group Project\\ds105a-project-dees-nuts\\notebooks\\data_visualisation.ipynb Cell 19\u001b[0m line \u001b[0;36m1\n\u001b[1;32m----> <a href='vscode-notebook-cell:/c%3A/Users/soong/Documents/LSE%20Academics/DS105A/Group%20Project/ds105a-project-dees-nuts/notebooks/data_visualisation.ipynb#X46sZmlsZQ%3D%3D?line=0'>1</a>\u001b[0m songs_test2 \u001b[39m=\u001b[39m songs_test\n\u001b[0;32m      <a href='vscode-notebook-cell:/c%3A/Users/soong/Documents/LSE%20Academics/DS105A/Group%20Project/ds105a-project-dees-nuts/notebooks/data_visualisation.ipynb#X46sZmlsZQ%3D%3D?line=2'>3</a>\u001b[0m total_words \u001b[39m=\u001b[39m songs_test2[\u001b[39m'\u001b[39m\u001b[39mGenius_lyrics\u001b[39m\u001b[39m'\u001b[39m]\u001b[39m.\u001b[39mapply(\u001b[39mlambda\u001b[39;00m x: \u001b[39mlen\u001b[39m(x\u001b[39m.\u001b[39msplit()))\n\u001b[0;32m      <a href='vscode-notebook-cell:/c%3A/Users/soong/Documents/LSE%20Academics/DS105A/Group%20Project/ds105a-project-dees-nuts/notebooks/data_visualisation.ipynb#X46sZmlsZQ%3D%3D?line=3'>4</a>\u001b[0m unique_words \u001b[39m=\u001b[39m songs_test2[\u001b[39m'\u001b[39m\u001b[39mGenius_lyrics\u001b[39m\u001b[39m'\u001b[39m]\u001b[39m.\u001b[39mapply(\u001b[39mlambda\u001b[39;00m x: \u001b[39mlen\u001b[39m(\u001b[39mset\u001b[39m(x\u001b[39m.\u001b[39msplit())))\n",
      "\u001b[1;31mNameError\u001b[0m: name 'songs_test' is not defined"
     ]
    }
   ],
   "source": [
    "songs_test2 = songs_test\n",
    "\n",
    "total_words = songs_test2['Genius_lyrics'].apply(lambda x: len(x.split()))\n",
    "unique_words = songs_test2['Genius_lyrics'].apply(lambda x: len(set(x.split())))\n",
    "songs_test2['lexical_richness'] = unique_words/total_words*100\n",
    "songs_test2 = songs_test2.sort_values('lexical_richness')\n",
    "\n",
    "songs_test3 = songs_test2.dropna()\n",
    "\n",
    "songs_test3"
   ]
  },
  {
   "cell_type": "code",
   "execution_count": 210,
   "metadata": {},
   "outputs": [],
   "source": [
    "from plotnine import *"
   ]
  },
  {
   "cell_type": "code",
   "execution_count": 228,
   "metadata": {},
   "outputs": [
    {
     "name": "stderr",
     "output_type": "stream",
     "text": [
      "/Users/ruka/miniconda3/lib/python3.11/site-packages/plotnine/stats/stat_bin.py:109: PlotnineWarning: 'stat_bin()' using 'bins = 10'. Pick better value with 'binwidth'.\n"
     ]
    },
    {
     "data": {
      "image/png": "[encoded data removed]",
      "text/plain": [
       "<Figure size 640x480 with 1 Axes>"
      ]
     },
     "metadata": {
      "image/png": {
       "height": 480,
       "width": 640
      }
     },
     "output_type": "display_data"
    },
    {
     "data": {
      "text/plain": [
       "<Figure Size: (640 x 480)>"
      ]
     },
     "execution_count": 228,
     "metadata": {},
     "output_type": "execute_result"
    }
   ],
   "source": [
    "g = (\n",
    "    ggplot(songs_test3, aes(x='lexical_richness', y=after_stat('count')))\n",
    "    + geom_histogram()\n",
    "    + geom_density()\n",
    ")\n",
    "\n",
    "g"
   ]
  }
 ],
 "metadata": {
  "kernelspec": {
   "display_name": "Python 3",
   "language": "python",
   "name": "python3"
  },
  "language_info": {
   "codemirror_mode": {
    "name": "ipython",
    "version": 3
   },
   "file_extension": ".py",
   "mimetype": "text/x-python",
   "name": "python",
   "nbconvert_exporter": "python",
   "pygments_lexer": "ipython3",
   "version": "3.12.0"
  }
 },
 "nbformat": 4,
 "nbformat_minor": 2
}
