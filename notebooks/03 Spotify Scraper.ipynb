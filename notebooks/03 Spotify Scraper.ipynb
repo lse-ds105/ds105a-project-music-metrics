{
 "cells": [
  {
   "cell_type": "markdown",
   "metadata": {},
   "source": [
    "# **03 Spotify Scraper**\n"
   ]
  },
  {
   "cell_type": "markdown",
   "metadata": {},
   "source": [
    "### Using Spotify to scrape data on the release date, popularity, explicitness and market number of each song"
   ]
  },
  {
   "cell_type": "markdown",
   "metadata": {},
   "source": [
    "---\n"
   ]
  },
  {
   "cell_type": "markdown",
   "metadata": {},
   "source": [
    "### **Set-up ⚙️**"
   ]
  },
  {
   "cell_type": "markdown",
   "metadata": {},
   "source": [
    "Import necessary packages\n",
    "\n",
    "*⚠️ Note: Do not run this more than once. Restart the kernel before running this code chunk.*"
   ]
  },
  {
   "cell_type": "code",
   "execution_count": null,
   "metadata": {},
   "outputs": [],
   "source": [
    "import spotipy\n",
    "import requests\n",
    "from base64 import *\n",
    "from spotipy.oauth2 import SpotifyClientCredentials\n",
    "import json\n",
    "import os\n",
    "os.chdir(os.path.expanduser(\"../\"))                 # change directory to main project directory\n",
    "\n",
    "from functions.spotify_functions import *           # imports custom functions for spotify scraping"
   ]
  },
  {
   "cell_type": "markdown",
   "metadata": {},
   "source": [
    "Check that we are in the correct current working directory\n",
    "\n",
    "*⚠️ Note: We should be in the main project directory*"
   ]
  },
  {
   "cell_type": "code",
   "execution_count": null,
   "metadata": {},
   "outputs": [],
   "source": [
    "print(\"Current working directory:\", os.getcwd())"
   ]
  },
  {
   "cell_type": "markdown",
   "metadata": {},
   "source": [
    "Open JSON file containing credentials\n",
    "\n",
    "*⚠️ Note: Our credentials should be stored in a file titled `credentials.json` and stored in the root of the project folder*"
   ]
  },
  {
   "cell_type": "code",
   "execution_count": null,
   "metadata": {},
   "outputs": [],
   "source": [
    "credentials_file_path = './credentials.json'\n",
    "\n",
    "with open(credentials_file_path, 'r') as f:\n",
    "    credentials = json.load(f)"
   ]
  },
  {
   "cell_type": "markdown",
   "metadata": {},
   "source": [
    "---"
   ]
  },
  {
   "cell_type": "markdown",
   "metadata": {},
   "source": [
    "### **Data Scraping 🔍**"
   ]
  },
  {
   "cell_type": "code",
   "execution_count": null,
   "metadata": {},
   "outputs": [],
   "source": [
    "client_id = credentials['client_id']\n",
    "client_secret = credentials['client_secret']\n",
    "\n",
    "client_creds = f\"{client_id}:{client_secret}\"\n",
    "base64_client_creds = b64encode(client_creds.encode()).decode()\n",
    "\n",
    "auth_url = 'https://accounts.spotify.com/api/token'\n",
    "headers = {\n",
    "    'Authorization': f'Basic {base64_client_creds}'\n",
    "}\n",
    "payload = {\n",
    "    'grant_type': 'client_credentials'\n",
    "}\n",
    "\n",
    "response = requests.post(auth_url, headers=headers, data=payload)\n",
    "\n",
    "spotify_token = response.json()"
   ]
  },
  {
   "cell_type": "markdown",
   "metadata": {},
   "source": []
  },
  {
   "cell_type": "code",
   "execution_count": null,
   "metadata": {},
   "outputs": [],
   "source": [
    "sp = spotipy.Spotify(auth=spotify_token['access_token'])"
   ]
  }
 ],
 "metadata": {
  "language_info": {
   "name": "python"
  }
 },
 "nbformat": 4,
 "nbformat_minor": 2
}
