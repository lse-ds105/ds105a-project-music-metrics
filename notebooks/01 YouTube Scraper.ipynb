{
 "cells": [
  {
   "cell_type": "markdown",
   "metadata": {},
   "source": [
    "# **01 YouTube Scraper**\n"
   ]
  },
  {
   "cell_type": "markdown",
   "metadata": {},
   "source": [
    "### Using YouTube API to scrape data on the most popular music videos "
   ]
  },
  {
   "cell_type": "markdown",
   "metadata": {},
   "source": [
    "---"
   ]
  },
  {
   "cell_type": "markdown",
   "metadata": {},
   "source": [
    "### **Set-up ⚙️**"
   ]
  },
  {
   "cell_type": "markdown",
   "metadata": {},
   "source": [
    "Install dependencies from `requirements.txt`"
   ]
  },
  {
   "cell_type": "markdown",
   "metadata": {},
   "source": [
    "\n",
    "```bash\n",
    "pip install -r requirements.txt\n",
    "```"
   ]
  },
  {
   "cell_type": "markdown",
   "metadata": {},
   "source": [
    "Import necessary packages\n",
    "\n",
    "*⚠️ Note: Do not run this more than once. Restart the kernel before running this code chunk.*"
   ]
  },
  {
   "cell_type": "code",
   "execution_count": null,
   "metadata": {},
   "outputs": [],
   "source": [
    "from googleapiclient.discovery import build\n",
    "import isodate\n",
    "import pandas as pd\n",
    "import json\n",
    "import ast\n",
    "import os\n",
    "os.chdir(os.path.expanduser(\"../\"))             # change directory to main project directory\n",
    "\n",
    "from functions.youtube_functions import *       # imports custom functions for youtube scraping"
   ]
  },
  {
   "cell_type": "markdown",
   "metadata": {},
   "source": [
    "Check that we are in the correct current working directory\n",
    "\n",
    "*⚠️ Note: We should be in the main project directory*"
   ]
  },
  {
   "cell_type": "code",
   "execution_count": null,
   "metadata": {},
   "outputs": [],
   "source": [
    "print(\"Current working directory:\", os.getcwd())"
   ]
  },
  {
   "cell_type": "markdown",
   "metadata": {},
   "source": [
    "Open JSON file containing credentials\n",
    "\n",
    "*⚠️ Note: Our credentials should be stored in a file titled `credentials.json` and stored in the root of the project folder*"
   ]
  },
  {
   "cell_type": "code",
   "execution_count": null,
   "metadata": {},
   "outputs": [],
   "source": [
    "credentials_file_path = './credentials.json'\n",
    "\n",
    "with open(credentials_file_path, 'r') as f:\n",
    "    credentials = json.load(f)"
   ]
  },
  {
   "cell_type": "markdown",
   "metadata": {},
   "source": [
    "Create service object of the YouTube version 3 API\n",
    "\n",
    "*⚠️ Note: YouTube API key should be saved under the key `youtube_api_key` in the `credentials.json` file*"
   ]
  },
  {
   "cell_type": "code",
   "execution_count": null,
   "metadata": {},
   "outputs": [],
   "source": [
    "# creating service object of the youtube version 3 API\n",
    "service_youtube = build('youtube', 'v3', developerKey=credentials['youtube_api_key'])"
   ]
  },
  {
   "cell_type": "markdown",
   "metadata": {},
   "source": [
    "---"
   ]
  },
  {
   "cell_type": "markdown",
   "metadata": {},
   "source": [
    "### **Data Scraping 🔍**"
   ]
  },
  {
   "cell_type": "markdown",
   "metadata": {},
   "source": [
    "Using the `search_youtube` function, scrape data on the most popular music videos in the US with the `.search().list()` method, and store the scraped data into a new dataframe"
   ]
  },
  {
   "cell_type": "code",
   "execution_count": null,
   "metadata": {},
   "outputs": [],
   "source": [
    "youtube_search_data, video_id = search_youtube(service_youtube, 2000, \"official music video\", \"video\", \"US\", 10)\n",
    "\n",
    "yt_search_df = pd.DataFrame(youtube_search_data)\n",
    "\n",
    "# save raw data to csv\n",
    "yt_search_df.to_csv('./data/raw_youtube_search_data.csv')"
   ]
  },
  {
   "cell_type": "markdown",
   "metadata": {},
   "source": [
    "Using the `get_stats` function, scrape statistical data on each music video with the `.videos().list()` method and with the Video ID of each video as an input parameter, and store the scraped data into a new dataframe\n",
    "\n",
    "Merge the new dataframe with the first dataframe\n",
    "\n",
    "*📇 Extra details: The API only allows for searching for 50 Video IDs at a time, thus we solved this by creating different lists with 50 IDs each*"
   ]
  },
  {
   "cell_type": "code",
   "execution_count": null,
   "metadata": {},
   "outputs": [],
   "source": [
    "video_stats = get_stats(service_youtube, video_id)  \n",
    "video_stats_df = pd.DataFrame(video_stats)\n",
    "\n",
    "# save raw data to csv\n",
    "video_stats_df.to_csv('./data/raw_youtube_stats_data.csv')\n",
    "\n",
    "# merge the mv stats and search dataframes\n",
    "merged_df = pd.merge(yt_search_df, video_stats_df, left_on='video_id', right_on='video_id')"
   ]
  },
  {
   "cell_type": "markdown",
   "metadata": {},
   "source": [
    "Using the `get_comments_in_videos` function, scrape the comments for each music video with the `.commentThreads().list()` method, and store the scraped data into a new dataframe\n",
    "\n",
    "Merge the new dataframe with the previous dataframe to create our final dataframe for raw data\n",
    "\n",
    "We save the final raw search data as a CSV file at this juncture before further data cleaning\n",
    "\n",
    "*📇 Extra details: Comments are disabled for some videos*"
   ]
  },
  {
   "cell_type": "code",
   "execution_count": null,
   "metadata": {},
   "outputs": [],
   "source": [
    "comments_df = get_comments_in_videos(service_youtube, video_id)\n",
    "\n",
    "# save raw data to csv\n",
    "comments_df.to_csv('./data/raw_youtube_comments_data.csv')\n",
    "\n",
    "final_youtube_df = pd.merge(merged_df, comments_df, left_on='video_id', right_on='video_id', sort = False)\n",
    "\n",
    "# save raw data to csv\n",
    "final_youtube_df.to_csv('./data/raw_youtube_final_data.csv')"
   ]
  },
  {
   "cell_type": "markdown",
   "metadata": {},
   "source": [
    "---"
   ]
  },
  {
   "cell_type": "markdown",
   "metadata": {},
   "source": [
    "### **Data Cleaning 🧹**"
   ]
  },
  {
   "cell_type": "markdown",
   "metadata": {},
   "source": [
    "Clean the raw data and remove unnecessary data"
   ]
  },
  {
   "cell_type": "code",
   "execution_count": null,
   "metadata": {},
   "outputs": [],
   "source": [
    "final_youtube_df = pd.read_csv('./data/raw_youtube_final_data.csv', index_col=0)\n",
    "\n",
    "# drop unnecessary columns\n",
    "cleaned_df = final_youtube_df.drop(['video_id', 'channel_id', 'channel_title'], axis=1)  \n",
    "\n",
    "# remove everything in parentheses and after ft. to get standardised video titles\n",
    "cleaned_df['title'] = cleaned_df['title'].str.replace(r'\\(.*\\)|\\s+ft\\..*', '', regex=True)      \n",
    "\n",
    "# format wikipedia categories into a joined string\n",
    "cleaned_df['wikipedia_categories'] = cleaned_df['wikipedia_categories'].apply(lambda x: ', '.join([url.split('/')[-1].replace('_', ' ') for url in ast.literal_eval(x)]))\n",
    "\n",
    "# convert duration to seconds\n",
    "cleaned_df['duration'] = cleaned_df['duration'].apply(lambda x: isodate.parse_duration(x).total_seconds())\n",
    "\n",
    "# rename columns appropriately\n",
    "cleaned_df = cleaned_df.rename(columns={'title': 'video_title', 'duration': 'duration_seconds'})"
   ]
  },
  {
   "cell_type": "markdown",
   "metadata": {},
   "source": [
    "Save cleaned data as a CSV file"
   ]
  },
  {
   "cell_type": "code",
   "execution_count": null,
   "metadata": {},
   "outputs": [],
   "source": [
    "cleaned_df.to_csv('./data/cleaned_youtube_final_data.csv')"
   ]
  }
 ],
 "metadata": {
  "kernelspec": {
   "display_name": "base",
   "language": "python",
   "name": "python3"
  },
  "language_info": {
   "codemirror_mode": {
    "name": "ipython",
    "version": 3
   },
   "file_extension": ".py",
   "mimetype": "text/x-python",
   "name": "python",
   "nbconvert_exporter": "python",
   "pygments_lexer": "ipython3",
   "version": "3.12.0"
  }
 },
 "nbformat": 4,
 "nbformat_minor": 2
}
